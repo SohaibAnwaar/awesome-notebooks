{
 "cells": [
  {
   "cell_type": "markdown",
   "id": "e21f9f85-9e30-4ff0-8509-991c73ee1e5b",
   "metadata": {
    "papermill": {},
    "tags": []
   },
   "source": [
    "<img width=\"10%\" alt=\"Naas\" src=\"https://landen.imgix.net/jtci2pxwjczr/assets/5ice39g4.png?w=160\"/>"
   ]
  },
  {
   "cell_type": "markdown",
   "id": "22f09c6f-bab5-45e6-8c76-f6173c7b1eb9",
   "metadata": {
    "papermill": {},
    "tags": []
   },
   "source": [
    "# Google Docs - Save document as PDF in Google Drive"
   ]
  },
  {
   "cell_type": "markdown",
   "id": "36fc5ca9-6fca-40e6-a64f-ee1cc02d5d02",
   "metadata": {
    "papermill": {},
    "tags": []
   },
   "source": [
    "**Tags:** #google #docs #pdf #drive #save #document"
   ]
  },
  {
   "cell_type": "markdown",
   "id": "fcf4aefb-2c5e-47e7-ba29-85439de24569",
   "metadata": {
    "papermill": {},
    "tags": []
   },
   "source": [
    "**Author:** [Firstname Lastname](https://www.linkedin.com/in/xxxx)"
   ]
  },
  {
   "cell_type": "markdown",
   "id": "abce1dc4-a34b-4bf8-a7f7-47011c44a75b",
   "metadata": {
    "papermill": {},
    "tags": []
   },
   "source": [
    "**Last update:** 2023-10-12 (Created: 2023-10-12)"
   ]
  },
  {
   "cell_type": "markdown",
   "id": "8bb38fb7-e73b-4da6-992a-4b8db2d64f5f",
   "metadata": {
    "papermill": {},
    "tags": []
   },
   "source": [
    "**Description:** This notebook explains how to save a document as a PDF in Google Drive. It is usefull for organizations that need to store documents in a secure and organized way."
   ]
  },
  {
   "cell_type": "markdown",
   "id": "73d42ee8-eaee-4cd8-82f3-0d90776a48cb",
   "metadata": {
    "papermill": {},
    "tags": []
   },
   "source": [
    "**References:**\n- [Google Docs Help](https://support.google.com/docs/answer/179738?co=GENIE.Platform%3DDesktop&hl=en)\n- [Google Drive Help](https://support.google.com/drive/answer/2424384?co=GENIE.Platform%3DDesktop&hl=en)"
   ]
  },
  {
   "cell_type": "markdown",
   "id": "8fb3db8b-ab38-4936-859f-cc892d174faf",
   "metadata": {
    "papermill": {},
    "tags": []
   },
   "source": [
    "## Input"
   ]
  },
  {
   "cell_type": "markdown",
   "id": "bcb28f22-5ea0-4b19-8f8e-dc4428d10d2b",
   "metadata": {
    "papermill": {},
    "tags": []
   },
   "source": [
    "### Import libraries"
   ]
  },
  {
   "cell_type": "code",
   "execution_count": null,
   "id": "b862c400-06b2-4614-8fcc-048695426411",
   "metadata": {
    "papermill": {},
    "tags": []
   },
   "source": "import os\nimport shutil",
   "outputs": []
  },
  {
   "cell_type": "markdown",
   "id": "655f70d2-eec2-4404-9f19-cdfcc4c0f274",
   "metadata": {
    "papermill": {},
    "tags": []
   },
   "source": [
    "### Setup variables\n- `document_name`: Name of the document to be saved as PDF\n- `document_path`: Path of the document to be saved as PDF\n- `destination_path`: Path of the destination folder in Google Drive"
   ]
  },
  {
   "cell_type": "code",
   "execution_count": null,
   "id": "12845036-a04f-45e7-bdd1-0ae12e30de12",
   "metadata": {
    "papermill": {},
    "tags": []
   },
   "source": "document_name = \"example_document.docx\"\ndocument_path = os.path.join(\"/home/user/Documents\", document_name)\ndestination_path = os.path.join(\"/home/user/Google Drive/Documents\")",
   "outputs": []
  },
  {
   "cell_type": "markdown",
   "id": "3c8dcec2-ee8e-474a-b38d-c9b6f35ecc72",
   "metadata": {
    "papermill": {},
    "tags": []
   },
   "source": [
    "## Model"
   ]
  },
  {
   "cell_type": "markdown",
   "id": "13aadc68-5db3-4253-9ad5-fe29b8ea3904",
   "metadata": {
    "papermill": {},
    "tags": []
   },
   "source": [
    "### Save document as PDF"
   ]
  },
  {
   "cell_type": "code",
   "execution_count": null,
   "id": "4f201356-0de6-40ce-ba49-57e474166ffa",
   "metadata": {
    "papermill": {},
    "tags": []
   },
   "source": "# Copy document to destination folder\nshutil.copy(document_path, destination_path)\n# Rename document to PDF\nos.rename(\n    os.path.join(destination_path, document_name),\n    os.path.join(destination_path, document_name.replace(\".docx\", \".pdf\")),\n)",
   "outputs": []
  },
  {
   "cell_type": "markdown",
   "id": "770d5c38-5d1f-477b-986c-96a9436cd88a",
   "metadata": {
    "papermill": {},
    "tags": []
   },
   "source": [
    "## Output"
   ]
  },
  {
   "cell_type": "markdown",
   "id": "b992c99e-a29e-4f71-ac8f-83876f257f06",
   "metadata": {
    "papermill": {},
    "tags": []
   },
   "source": [
    "### Display result"
   ]
  },
  {
   "cell_type": "code",
   "execution_count": null,
   "id": "7207d495-d9f9-476c-bdd2-211d15910aeb",
   "metadata": {
    "papermill": {},
    "tags": []
   },
   "source": "print(f\"Document {document_name} saved as PDF in {destination_path}\")",
   "outputs": []
  }
 ],
 "metadata": {
  "kernelspec": {
   "display_name": "Python 3",
   "language": "python",
   "name": "python3"
  },
  "language_info": {
   "codemirror_mode": {
    "name": "ipython",
    "version": 3
   },
   "file_extension": ".py",
   "mimetype": "text/x-python",
   "name": "python",
   "nbconvert_exporter": "python",
   "pygments_lexer": "ipython3",
   "version": "3.9.6"
  },
  "widgets": {
   "application/vnd.jupyter.widget-state+json": {
    "state": {},
    "version_major": 2,
    "version_minor": 0
   }
  }
 },
 "nbformat": 4,
 "nbformat_minor": 5
}