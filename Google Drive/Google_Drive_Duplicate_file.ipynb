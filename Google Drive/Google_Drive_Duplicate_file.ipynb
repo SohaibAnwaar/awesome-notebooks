{
 "cells": [
  {
   "cell_type": "markdown",
   "id": "0d4c607b-9911-4d9b-8e39-540f7d5ce5fa",
   "metadata": {
    "papermill": {},
    "tags": []
   },
   "source": [
    "<img width=\"10%\" alt=\"Naas\" src=\"https://landen.imgix.net/jtci2pxwjczr/assets/5ice39g4.png?w=160\"/>"
   ]
  },
  {
   "cell_type": "markdown",
   "id": "30062732-7cd2-4289-8c9d-d334f4ae6e0c",
   "metadata": {
    "papermill": {},
    "tags": []
   },
   "source": [
    "# Google Drive - Duplicate file"
   ]
  },
  {
   "cell_type": "markdown",
   "id": "cc9107ed-0c31-4b84-95b5-f89e3509e1ac",
   "metadata": {
    "papermill": {},
    "tags": []
   },
   "source": [
    "**Tags:** #google #drive #duplicate #file #python #script"
   ]
  },
  {
   "cell_type": "markdown",
   "id": "150e02e6-cadc-467f-84f8-4611039774dd",
   "metadata": {
    "papermill": {},
    "tags": []
   },
   "source": [
    "**Author:** [Firstname Lastname](https://www.linkedin.com/in/xxxx)"
   ]
  },
  {
   "cell_type": "markdown",
   "id": "b36283e0-a559-4733-ab6d-7d510d007075",
   "metadata": {
    "papermill": {},
    "tags": []
   },
   "source": [
    "**Last update:** 2023-10-12 (Created: 2023-10-12)"
   ]
  },
  {
   "cell_type": "markdown",
   "id": "afe2f9ed-fe5c-4add-8c20-b41d437ab7fb",
   "metadata": {
    "papermill": {},
    "tags": []
   },
   "source": [
    "**Description:** This notebook duplicates a file in Google Drive. It is usefull for organization as it allows to quickly create a copy of a file."
   ]
  },
  {
   "cell_type": "markdown",
   "id": "d4a230f4-2f78-4c92-bb34-ea4b8002373c",
   "metadata": {
    "papermill": {},
    "tags": []
   },
   "source": [
    "**References:**\n- [Google Drive API Documentation](https://developers.google.com/drive/api/v3/reference/)\n- [Google Drive Python Quickstart](https://developers.google.com/drive/api/v3/quickstart/python)"
   ]
  },
  {
   "cell_type": "markdown",
   "id": "486fb70b-13db-4f0b-af61-60027a072540",
   "metadata": {
    "papermill": {},
    "tags": []
   },
   "source": [
    "## Input"
   ]
  },
  {
   "cell_type": "markdown",
   "id": "30a966fe-1c6a-47bd-9fcb-a0bd1a7dae4b",
   "metadata": {
    "papermill": {},
    "tags": []
   },
   "source": [
    "### Import libraries"
   ]
  },
  {
   "cell_type": "code",
   "execution_count": null,
   "id": "7280f252-b3ac-4c62-94d7-7ba035a7f0b3",
   "metadata": {
    "papermill": {},
    "tags": []
   },
   "source": "# Import libraries\nimport os\nfrom googleapiclient.discovery import build\nfrom google_auth_oauthlib.flow import InstalledAppFlow\nfrom google.auth.transport.requests import Request",
   "outputs": []
  },
  {
   "cell_type": "markdown",
   "id": "a57ed74a-0980-4044-ba1b-e7eaa31607a8",
   "metadata": {
    "papermill": {},
    "tags": []
   },
   "source": [
    "### Setup variables\n- `SCOPES`: list of scopes to be used for authentication\n- `creds`: credentials to be used for authentication\n- `service`: Google Drive service\n- `file_id`: ID of the file to be duplicated"
   ]
  },
  {
   "cell_type": "code",
   "execution_count": null,
   "id": "3c1e7afa-8301-42d8-b564-392575d5d13e",
   "metadata": {
    "papermill": {},
    "tags": []
   },
   "source": "# Setup variables\nSCOPES = ['https://www.googleapis.com/auth/drive']\ncreds = None\n# The file token.pickle stores the user's access and refresh tokens, and is\n# created automatically when the authorization flow completes for the first\n# time.\nif os.path.exists('token.pickle'):\n    with open('token.pickle', 'rb') as token:\n        creds = pickle.load(token)\n# If there are no (valid) credentials available, let the user log in.\nif not creds or not creds.valid:\n    if creds and creds.expired and creds.refresh_token:\n        creds.refresh(Request())\n    else:\n        flow = InstalledAppFlow.from_client_secrets_file(\n            'credentials.json', SCOPES)\n        creds = flow.run_local_server(port=0)\n    # Save the credentials for the next run\n    with open('token.pickle', 'wb') as token:\n        pickle.dump(creds, token)\n# Build the service\nservice = build('drive', 'v3', credentials=creds)\n# File ID of the file to be duplicated\nfile_id = '1X_Vj_X_X_X_X_X_X_X_X_X_X_X_X_X_X_X_X_X_X_X_X_X_X_X_X_X_X_X_X_X_X_X_X_X_X_X_X_X_X_X_X_X_X_X_X_X_X_X_X_X_X_X_X_X_X_X_X_X_X_X_X_X_X_X_X_X_X_X_X_X_X_X_X_X_X_X_X_X_X_X_X_X_X_X_X_X_X_X_X_X_X_X_X_X_X_X_X_X_X_X_X_X_X_X_X_X_X_X_X_X_X_X_X_X_X_X_X_X_X_X_X_X_X_X_X_X_X_X_X_X_X_X_X_X_X_X_X_X_X_X_X_X_X_X_X_X_X_X_X_X_X_X_X_X_X_X_X_X_X_X_X_X_X_X_X_X_X_X_X_X_X_X_X_X_X_X_X_X_X_X_X_X_X_X_X_X_X_X_X_X_X_X_X_X_X_X_X_X_X_X_X_X_X_X_X_X_X_X_X_X_X_X_X_X_X_X_X_X_X_X_X_X_X_X_X_X_X_X_X_X_X_X_X_X_X_X_X_X_X_X_X_X_X_X_X_X_X_X_X_X_X_X_X_X_X_X_X_X_X_X_X_X_X_X_X_X_X_X_X_X_X_X_X_X_X_X_X_X_X_X_X_X_X_X_X_X_X_X_X_X_X_X_X_X_X_X_X_X_X_X_X_X_X_X_X_X_X_X_X_X_X_X_X_X_X_X_X_X_X_X_X_X_X_X_X_X_X_X_X_X_X_X_X_X_X_X_X_X_X_X_X_X_X_X_X_X_X_X_X_X_X_X_X_X_X_X_X_X_X_X_X_X_X_X_X_X_X_X_X_X_X_X_X_X_X_X_X_X_X_X_X_X_X_X_X_X_X_X_X_X_X_X_X_X_X_X_X_X_X_X_X_X_X_X_X_X_X_X_X_X_X_X_X_X_X_X_X_X_X_X_X_X_X_X_X_X_X_X_X_X_X_X_X_X_X_X_X_X_X_X_X_X_X_X_X_X_X_X_X_X_X_X_X_X_X_X_X_X_X_X_X_X_X_X_X_X_X_X_X_X_X_X_X_X_X_X_X_X_X_X_X_X_X_X_X_X_X_X_X_X_X_X_X_X_X_X_X_X_X_X_X_X_X_X_X_X_X_X_X_X_X_X_X_X_X_X_X_X_X_X_X_X_X_X_X_X_X_X_X_X_X_X_X_X_X_X_X_X_X_X_X_X_X_X_X_X_X_X_X_X_X_X_X_X_X_X_X_X_X_X_X_X_X_X_X_X_X_X_X_X_X_X_X_X_X_X_X_X_X_X_X_X_X_X_X_X_X_X_X_X_X_X_X_X_X_X_X_X_X_X_X_X_X_X_X_X_X_X_X_X_X_X_X_X_X_X_X_X_X_X_X_X_X_X_X_X_X_X_X_X_X_X_X_X_X_X_X_X_X_X_X_X_X_X_X_X_X_X_X_X_X_X_X_X_X_X_X_X_X_X_X_X_X_X_X_X_X_X_X_X_X_X_X_X_X_X_X_X_X_X_X_X_X_X_X_X_X_X_X_X_X_X_X_X_X_X_X_X_X_X_X_X_X_X_X_X_X_X_X_X_X_X_X_X_X_X_X_X_X_X_X_X_X_X_X_X_X_X_X_X_X_X_X_X_X_X_X_X",
   "outputs": []
  }
 ],
 "metadata": {
  "kernelspec": {
   "display_name": "Python 3",
   "language": "python",
   "name": "python3"
  },
  "language_info": {
   "codemirror_mode": {
    "name": "ipython",
    "version": 3
   },
   "file_extension": ".py",
   "mimetype": "text/x-python",
   "name": "python",
   "nbconvert_exporter": "python",
   "pygments_lexer": "ipython3",
   "version": "3.9.6"
  },
  "widgets": {
   "application/vnd.jupyter.widget-state+json": {
    "state": {},
    "version_major": 2,
    "version_minor": 0
   }
  }
 },
 "nbformat": 4,
 "nbformat_minor": 5
}