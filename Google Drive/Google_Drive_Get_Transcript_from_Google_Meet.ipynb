{
 "cells": [
  {
   "cell_type": "markdown",
   "id": "b5fda797-9935-4e14-b000-004141a67aad",
   "metadata": {
    "papermill": {},
    "tags": []
   },
   "source": [
    "<img width=\"10%\" alt=\"Naas\" src=\"https://landen.imgix.net/jtci2pxwjczr/assets/5ice39g4.png?w=160\"/>"
   ]
  },
  {
   "cell_type": "markdown",
   "id": "1480ccaa-62ea-43b2-a5ed-a26eed3bef75",
   "metadata": {
    "papermill": {},
    "tags": []
   },
   "source": [
    "# Google Drive - Get Transcript from Google Meet"
   ]
  },
  {
   "cell_type": "markdown",
   "id": "b5a098ae-dc6b-4d45-8015-1942a48e05c7",
   "metadata": {
    "papermill": {},
    "tags": []
   },
   "source": [
    "**Tags:** #google #drive #transcript #googlemeet #python #notebook"
   ]
  },
  {
   "cell_type": "markdown",
   "id": "780c2b14-6cde-45dd-9d44-b9bb7f41815c",
   "metadata": {
    "papermill": {},
    "tags": []
   },
   "source": [
    "**Author:** [Firstname Lastname]()"
   ]
  },
  {
   "cell_type": "markdown",
   "id": "cef2fd04-1e00-4f2b-aecc-3e40ec651c57",
   "metadata": {
    "papermill": {},
    "tags": []
   },
   "source": [
    "**Last update:** 2023-10-05 (Created: 2023-10-05)"
   ]
  },
  {
   "cell_type": "markdown",
   "id": "40c83447-87a0-478c-905f-31d589dc9e6f",
   "metadata": {
    "papermill": {},
    "tags": []
   },
   "source": [
    "**Description:** This notebook will get the transcript from a Google Meet and store it in a Google Drive. It is usefull for organizations to keep track of conversations and decisions made during meetings."
   ]
  },
  {
   "cell_type": "markdown",
   "id": "f6272312-b939-4842-8b08-7e499b33c844",
   "metadata": {
    "papermill": {},
    "tags": []
   },
   "source": [
    "**References:**\n- [Google Drive API Documentation](https://developers.google.com/drive/api/v3/reference/)\n- [Google Meet API Documentation](https://developers.google.com/meet/api/reference/)"
   ]
  },
  {
   "cell_type": "markdown",
   "id": "d544db38-7697-4913-9d4f-e49774dcca27",
   "metadata": {
    "papermill": {},
    "tags": []
   },
   "source": [
    "## Input"
   ]
  },
  {
   "cell_type": "markdown",
   "id": "8be4ea84-b186-40d8-ac29-0ee0d36a6955",
   "metadata": {
    "papermill": {},
    "tags": []
   },
   "source": [
    "### Import libraries"
   ]
  },
  {
   "cell_type": "code",
   "execution_count": null,
   "id": "cf591f68-1a19-4c9d-b8ca-32624034130c",
   "metadata": {
    "papermill": {},
    "tags": []
   },
   "source": "import googleapiclient.discovery\nimport google.auth",
   "outputs": []
  },
  {
   "cell_type": "markdown",
   "id": "d645d3d9-c447-4b50-9fb0-f72f284f5969",
   "metadata": {
    "papermill": {},
    "tags": []
   },
   "source": [
    "### Setup variables\n- **credentials**: credentials to access Google Drive and Google Meet APIs\n- **meeting_id**: ID of the meeting to get the transcript from"
   ]
  },
  {
   "cell_type": "code",
   "execution_count": null,
   "id": "31d454ee-743c-4d2f-be1a-5b2fcdc439ec",
   "metadata": {
    "papermill": {},
    "tags": []
   },
   "source": "credentials, _ = google.auth.default()\nmeeting_id = \"123456789\"",
   "outputs": []
  },
  {
   "cell_type": "markdown",
   "id": "92b46e80-a014-4741-9935-a41ad304be93",
   "metadata": {
    "papermill": {},
    "tags": []
   },
   "source": [
    "## Model"
   ]
  },
  {
   "cell_type": "markdown",
   "id": "37e9b332-0b2f-4f35-becd-c6f2d9b83b3b",
   "metadata": {
    "papermill": {},
    "tags": []
   },
   "source": [
    "### Get transcript from Google Meet"
   ]
  },
  {
   "cell_type": "markdown",
   "id": "72093de5-7103-408f-a28e-4839610acb2e",
   "metadata": {
    "papermill": {},
    "tags": []
   },
   "source": [
    "This function will get the transcript from a Google Meet and store it in a Google Drive."
   ]
  },
  {
   "cell_type": "code",
   "execution_count": null,
   "id": "74c24040-8cdc-4466-bdac-2fe65079932e",
   "metadata": {
    "papermill": {},
    "tags": []
   },
   "source": "def get_transcript(credentials, meeting_id):\n    # Create Google Meet API service\n    meet = googleapiclient.discovery.build(\"meet\", \"v1\", credentials=credentials)\n\n    # Get transcript from Google Meet\n    transcript = meet.meetings().get(meetingId=meeting_id).execute()\n\n    # Create Google Drive API service\n    drive = googleapiclient.discovery.build(\"drive\", \"v3\", credentials=credentials)\n\n    # Store transcript in Google Drive\n    drive.files().create(\n        body={\"name\": \"transcript.txt\", \"mimeType\": \"text/plain\", \"parents\": [\"root\"]},\n        media_body=transcript,\n    ).execute()",
   "outputs": []
  },
  {
   "cell_type": "markdown",
   "id": "1a5c0d41-581a-4030-b51d-e37a435811dc",
   "metadata": {
    "papermill": {},
    "tags": []
   },
   "source": [
    "## Output"
   ]
  },
  {
   "cell_type": "markdown",
   "id": "2392b091-70cb-4f98-8679-7616426cb5ac",
   "metadata": {
    "papermill": {},
    "tags": []
   },
   "source": [
    "### Display result"
   ]
  },
  {
   "cell_type": "markdown",
   "id": "084d2689-638e-4056-8ac7-be74bf6c61b5",
   "metadata": {
    "papermill": {},
    "tags": []
   },
   "source": [
    "This will display the transcript stored in Google Drive."
   ]
  },
  {
   "cell_type": "code",
   "execution_count": null,
   "id": "8817780c-992a-478f-aeb6-cf7879d01d61",
   "metadata": {
    "papermill": {},
    "tags": []
   },
   "source": "# Get transcript from Google Drive\ntranscript = drive.files().get(fileId=\"root/transcript.txt\").execute()\n# Display transcript\nprint(transcript)",
   "outputs": []
  }
 ],
 "metadata": {
  "kernelspec": {
   "display_name": "Python 3",
   "language": "python",
   "name": "python3"
  },
  "language_info": {
   "codemirror_mode": {
    "name": "ipython",
    "version": 3
   },
   "file_extension": ".py",
   "mimetype": "text/x-python",
   "name": "python",
   "nbconvert_exporter": "python",
   "pygments_lexer": "ipython3",
   "version": "3.9.6"
  },
  "widgets": {
   "application/vnd.jupyter.widget-state+json": {
    "state": {},
    "version_major": 2,
    "version_minor": 0
   }
  }
 },
 "nbformat": 4,
 "nbformat_minor": 5
}