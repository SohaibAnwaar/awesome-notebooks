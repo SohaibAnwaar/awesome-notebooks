{
 "cells": [
  {
   "cell_type": "markdown",
   "id": "b3f5ad03-b62e-4366-8d5d-454dc6cea3f9",
   "metadata": {
    "papermill": {},
    "tags": []
   },
   "source": [
    "<img width=\"10%\" alt=\"Naas\" src=\"https://landen.imgix.net/jtci2pxwjczr/assets/5ice39g4.png?w=160\"/>"
   ]
  },
  {
   "cell_type": "markdown",
   "id": "c574d6da-4511-4615-b134-31f08d10fbaf",
   "metadata": {
    "papermill": {},
    "tags": []
   },
   "source": [
    "# LangChain - Perform Web scraping"
   ]
  },
  {
   "cell_type": "markdown",
   "id": "e08b84f1-f1df-4639-82c3-5e955be1df42",
   "metadata": {
    "papermill": {},
    "tags": []
   },
   "source": [
    "**Tags:** #webscraping #langchain #python #data #scraping #web"
   ]
  },
  {
   "cell_type": "markdown",
   "id": "bb9bc496-b3e5-48d3-980b-d73c87ef6ae6",
   "metadata": {
    "papermill": {},
    "tags": []
   },
   "source": [
    "**Author:** [Firstname Lastname]()"
   ]
  },
  {
   "cell_type": "markdown",
   "id": "c08c7000-336d-41de-b6eb-84e9eed00cf8",
   "metadata": {
    "papermill": {},
    "tags": []
   },
   "source": [
    "**Last update:** 2023-10-08 (Created: 2023-10-08)"
   ]
  },
  {
   "cell_type": "markdown",
   "id": "52f35e42-9926-45cc-848e-6f49280a0689",
   "metadata": {
    "papermill": {},
    "tags": []
   },
   "source": [
    "**Description:** This notebook performs web scraping to gather content from the web and running a LLM over them. It is usefull for organizations to breakthough and achieve their goals."
   ]
  },
  {
   "cell_type": "markdown",
   "id": "296138de-9ac0-496b-a6be-3ed8e30b2e84",
   "metadata": {
    "papermill": {},
    "tags": []
   },
   "source": [
    "**References:**\n- [LangChain - Use Cases](https://python.langchain.com/docs/use_cases/web_scraping)\n- [Web Scraping Tutorial](https://www.dataquest.io/blog/web-scraping-tutorial-python/)"
   ]
  },
  {
   "cell_type": "markdown",
   "id": "7894e680-504e-4630-9cce-73490dc43690",
   "metadata": {
    "papermill": {},
    "tags": []
   },
   "source": [
    "## Input"
   ]
  },
  {
   "cell_type": "markdown",
   "id": "ce1240e8-ef9b-4365-bc9a-a5122803fae9",
   "metadata": {
    "papermill": {},
    "tags": []
   },
   "source": [
    "### Import libraries"
   ]
  },
  {
   "cell_type": "code",
   "execution_count": null,
   "id": "8ce8c203-5769-49c0-824e-5aa59ef8e12f",
   "metadata": {
    "papermill": {},
    "tags": []
   },
   "source": "import requests\nimport pandas as pd",
   "outputs": []
  },
  {
   "cell_type": "markdown",
   "id": "3d45cfd4-c898-45d3-a91e-986fa5fc0a56",
   "metadata": {
    "papermill": {},
    "tags": []
   },
   "source": [
    "### Setup variables\n- **url**: URL of the website to be scraped\n- **headers**: Headers of the request"
   ]
  },
  {
   "cell_type": "code",
   "execution_count": null,
   "id": "5d686be2-8156-4908-beae-91a2da351118",
   "metadata": {
    "papermill": {},
    "tags": []
   },
   "source": "url = \"https://python.langchain.com/docs/use_cases/web_scraping\"\nheaders = {\n    \"User-Agent\": \"Mozilla/5.0 (Macintosh; Intel Mac OS X 10_11_5) AppleWebKit/537.36 (KHTML, like Gecko) Chrome/50.0.2661.102 Safari/537.36\"\n}",
   "outputs": []
  },
  {
   "cell_type": "markdown",
   "id": "2c6af2a8-9c18-4bd6-8c09-bed4c04471b9",
   "metadata": {
    "papermill": {},
    "tags": []
   },
   "source": [
    "## Model"
   ]
  },
  {
   "cell_type": "markdown",
   "id": "7f9cb7c0-fe85-453d-8254-556065da443e",
   "metadata": {
    "papermill": {},
    "tags": []
   },
   "source": [
    "### Perform web scraping"
   ]
  },
  {
   "cell_type": "markdown",
   "id": "bb9cb242-df19-48b0-b35b-e7f47c6bb2c1",
   "metadata": {
    "papermill": {},
    "tags": []
   },
   "source": [
    "We use the `requests` library to perform a `GET` request to the URL and store the response in the `response` variable."
   ]
  },
  {
   "cell_type": "code",
   "execution_count": null,
   "id": "2085a05a-9387-444e-8a13-7f188b948c32",
   "metadata": {
    "papermill": {},
    "tags": []
   },
   "source": "response = requests.get(url, headers=headers)",
   "outputs": []
  },
  {
   "cell_type": "markdown",
   "id": "3164c60e-18a1-4912-b0e2-cf24f79ab07b",
   "metadata": {
    "papermill": {},
    "tags": []
   },
   "source": [
    "We use the `pandas` library to parse the HTML content of the response and store it in the `df` variable."
   ]
  },
  {
   "cell_type": "code",
   "execution_count": null,
   "id": "9bf6000b-3338-4cdd-a90d-8f18a87be4c0",
   "metadata": {
    "papermill": {},
    "tags": []
   },
   "source": "df = pd.read_html(response.content)[0]",
   "outputs": []
  },
  {
   "cell_type": "markdown",
   "id": "e83ff47a-12dc-45f7-acc6-f6fc720bbd84",
   "metadata": {
    "papermill": {},
    "tags": []
   },
   "source": [
    "## Output"
   ]
  },
  {
   "cell_type": "markdown",
   "id": "77b6d013-f4f5-4bc7-97e9-6f2e950b3c8a",
   "metadata": {
    "papermill": {},
    "tags": []
   },
   "source": [
    "### Display result"
   ]
  },
  {
   "cell_type": "code",
   "execution_count": null,
   "id": "8272db29-02cb-41dc-841d-318bb5b6bef4",
   "metadata": {
    "papermill": {},
    "tags": []
   },
   "source": "df.head()",
   "outputs": []
  },
  {
   "cell_type": "markdown",
   "id": "221d7dec-b8a5-4e51-9e30-f6c9a73ee2e5",
   "metadata": {
    "papermill": {},
    "tags": []
   },
   "source": [
    " "
   ]
  }
 ],
 "metadata": {
  "kernelspec": {
   "display_name": "Python 3",
   "language": "python",
   "name": "python3"
  },
  "language_info": {
   "codemirror_mode": {
    "name": "ipython",
    "version": 3
   },
   "file_extension": ".py",
   "mimetype": "text/x-python",
   "name": "python",
   "nbconvert_exporter": "python",
   "pygments_lexer": "ipython3",
   "version": "3.9.6"
  },
  "widgets": {
   "application/vnd.jupyter.widget-state+json": {
    "state": {},
    "version_major": 2,
    "version_minor": 0
   }
  }
 },
 "nbformat": 4,
 "nbformat_minor": 5
}