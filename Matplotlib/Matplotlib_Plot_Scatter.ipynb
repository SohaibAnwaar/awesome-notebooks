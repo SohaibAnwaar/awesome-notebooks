{
 "cells": [
  {
   "cell_type": "markdown",
   "id": "821ba06c-e01b-4353-bc3c-146c6fa56ca9",
   "metadata": {
    "papermill": {},
    "tags": []
   },
   "source": [
    "<img width=\"10%\" alt=\"Naas\" src=\"https://landen.imgix.net/jtci2pxwjczr/assets/5ice39g4.png?w=160\"/>"
   ]
  },
  {
   "cell_type": "markdown",
   "id": "6eb80a3c-815b-4cee-abc4-b2e9f777b148",
   "metadata": {
    "papermill": {},
    "tags": []
   },
   "source": [
    "# Matplotlib - Plot Scatter"
   ]
  },
  {
   "cell_type": "markdown",
   "id": "18201659-1a17-4bb6-b5e8-0187d24c7d12",
   "metadata": {
    "papermill": {},
    "tags": []
   },
   "source": [
    "**Tags:** #matplotlib #plot #scatter #3d #visualization #export"
   ]
  },
  {
   "cell_type": "markdown",
   "id": "15abdb4e-826a-4af1-b800-0da79c95cfc9",
   "metadata": {
    "papermill": {},
    "tags": []
   },
   "source": [
    "**Author:** [Firstname Lastname]()"
   ]
  },
  {
   "cell_type": "markdown",
   "id": "3e312db7-51fd-4fcb-aa79-43de03760210",
   "metadata": {
    "papermill": {},
    "tags": []
   },
   "source": [
    "**Last update:** 2023-10-09 (Created: 2023-10-09)"
   ]
  },
  {
   "cell_type": "markdown",
   "id": "1286b7ac-5cf1-47dc-9e1f-9fc838c1517c",
   "metadata": {
    "papermill": {},
    "tags": []
   },
   "source": [
    "**Description:** This notebook will plot a 3D scatter and export it as a png with naas asset. It is usefull for visualizing data in 3D."
   ]
  },
  {
   "cell_type": "markdown",
   "id": "1d0f9e49-80bb-4d11-ae0e-6eebb76346b8",
   "metadata": {
    "papermill": {},
    "tags": []
   },
   "source": [
    "**References:**\n- [Matplotlib 3D Scatter](https://matplotlib.org/stable/plot_types/3D/scatter3d_simple.html#sphx-glr-plot-types-3d-scatter3d-simple-py)"
   ]
  },
  {
   "cell_type": "markdown",
   "id": "bf5d47cf-bd6e-4c69-a765-920d3a6c4e55",
   "metadata": {
    "papermill": {},
    "tags": []
   },
   "source": [
    "## Input"
   ]
  },
  {
   "cell_type": "markdown",
   "id": "4ee9f03e-ea5b-4e32-b995-e16c8f479488",
   "metadata": {
    "papermill": {},
    "tags": []
   },
   "source": [
    "### Import libraries"
   ]
  },
  {
   "cell_type": "code",
   "execution_count": null,
   "id": "c7036859-3db4-4dcf-b393-7ce8134e81f7",
   "metadata": {
    "papermill": {},
    "tags": []
   },
   "source": "import matplotlib.pyplot as plt\nfrom mpl_toolkits.mplot3d import Axes3D",
   "outputs": []
  },
  {
   "cell_type": "markdown",
   "id": "fdd7bb62-9bab-41c1-bee9-e503230e408d",
   "metadata": {
    "papermill": {},
    "tags": []
   },
   "source": [
    "### Setup variables"
   ]
  },
  {
   "cell_type": "code",
   "execution_count": null,
   "id": "c364a3cd-55f5-4a9b-ab8d-94d3b40a9404",
   "metadata": {
    "papermill": {},
    "tags": []
   },
   "source": "x = [1, 2, 3, 4, 5, 6, 7, 8, 9, 10]\ny = [5, 6, 2, 3, 13, 4, 1, 2, 4, 8]\nz = [2, 3, 3, 3, 5, 7, 9, 11, 9, 10]",
   "outputs": []
  },
  {
   "cell_type": "markdown",
   "id": "0084d81c-a2fd-4a49-bc04-b52e0247e03f",
   "metadata": {
    "papermill": {},
    "tags": []
   },
   "source": [
    "## Model"
   ]
  },
  {
   "cell_type": "markdown",
   "id": "8a2d5064-771c-4403-95fd-f44b119ffa37",
   "metadata": {
    "papermill": {},
    "tags": []
   },
   "source": [
    "### Plot 3D scatter"
   ]
  },
  {
   "cell_type": "code",
   "execution_count": null,
   "id": "a144e473-e030-4f3f-86d8-4adc9526535f",
   "metadata": {
    "papermill": {},
    "tags": []
   },
   "source": "fig = plt.figure()\nax = fig.add_subplot(111, projection=\"3d\")\nax.scatter(x, y, z, c=\"r\", marker=\"o\")\nax.set_xlabel(\"X Label\")\nax.set_ylabel(\"Y Label\")\nax.set_zlabel(\"Z Label\")\nplt.show()",
   "outputs": []
  },
  {
   "cell_type": "markdown",
   "id": "5ceb185b-cee1-4eb1-af90-14e2a8fe4476",
   "metadata": {
    "papermill": {},
    "tags": []
   },
   "source": [
    "## Output"
   ]
  },
  {
   "cell_type": "markdown",
   "id": "f2dfdc0d-9827-4ffe-a06e-ac93d65c0f30",
   "metadata": {
    "papermill": {},
    "tags": []
   },
   "source": [
    "### Display result"
   ]
  },
  {
   "cell_type": "code",
   "execution_count": null,
   "id": "dffea8e3-a9f2-4e3d-b0b0-3691d2b36e42",
   "metadata": {
    "papermill": {},
    "tags": []
   },
   "source": "# Export plot as png\nplt.savefig(\"plot_scatter.png\")\n# Upload to naas asset\n# naas.asset.upload('plot_scatter.png')",
   "outputs": []
  },
  {
   "cell_type": "markdown",
   "id": "3864ea89-410e-4b59-a19a-1b69876d53aa",
   "metadata": {
    "papermill": {},
    "tags": []
   },
   "source": [
    " "
   ]
  }
 ],
 "metadata": {
  "kernelspec": {
   "display_name": "Python 3",
   "language": "python",
   "name": "python3"
  },
  "language_info": {
   "codemirror_mode": {
    "name": "ipython",
    "version": 3
   },
   "file_extension": ".py",
   "mimetype": "text/x-python",
   "name": "python",
   "nbconvert_exporter": "python",
   "pygments_lexer": "ipython3",
   "version": "3.9.6"
  },
  "widgets": {
   "application/vnd.jupyter.widget-state+json": {
    "state": {},
    "version_major": 2,
    "version_minor": 0
   }
  }
 },
 "nbformat": 4,
 "nbformat_minor": 5
}