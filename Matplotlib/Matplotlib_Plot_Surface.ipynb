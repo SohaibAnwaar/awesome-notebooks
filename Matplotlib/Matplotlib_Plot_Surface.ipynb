{
 "cells": [
  {
   "cell_type": "markdown",
   "id": "d84f6608-4699-4c18-b987-6b2f830ab75f",
   "metadata": {
    "papermill": {},
    "tags": []
   },
   "source": [
    "<img width=\"10%\" alt=\"Naas\" src=\"https://landen.imgix.net/jtci2pxwjczr/assets/5ice39g4.png?w=160\"/>"
   ]
  },
  {
   "cell_type": "markdown",
   "id": "04774707-3436-467a-940e-3ee79f1fddc5",
   "metadata": {
    "papermill": {},
    "tags": []
   },
   "source": [
    "# Matplotlib - Plot Surface"
   ]
  },
  {
   "cell_type": "markdown",
   "id": "c164eac1-76ab-42e1-99fb-70816027b21d",
   "metadata": {
    "papermill": {},
    "tags": []
   },
   "source": [
    "**Tags:** #matplotlib #plot #surface #3d #visualization #data"
   ]
  },
  {
   "cell_type": "markdown",
   "id": "3ba98c4a-f22b-4cec-b565-79f059e963d2",
   "metadata": {
    "papermill": {},
    "tags": []
   },
   "source": [
    "**Author:** [Firstname Lastname]()"
   ]
  },
  {
   "cell_type": "markdown",
   "id": "b63def50-94e8-4a71-94ee-7482f862e4c0",
   "metadata": {
    "papermill": {},
    "tags": []
   },
   "source": [
    "**Last update:** 2023-10-09 (Created: 2023-10-09)"
   ]
  },
  {
   "cell_type": "markdown",
   "id": "8faac100-315b-4dcc-9e69-bae7fed4b144",
   "metadata": {
    "papermill": {},
    "tags": []
   },
   "source": [
    "**Description:** This notebook will plot a surface and export a png with naas asset. It is usefull for data visualization."
   ]
  },
  {
   "cell_type": "markdown",
   "id": "6bc93306-898d-40a3-ac3f-58a943e29d1a",
   "metadata": {
    "papermill": {},
    "tags": []
   },
   "source": [
    "**References:**\n- https://matplotlib.org/stable/plot_types/3D/surface3d_simple.html#sphx-glr-plot-types-3d-surface3d-simple-py"
   ]
  },
  {
   "cell_type": "markdown",
   "id": "60121731-1e82-41a9-848d-1ecdb4a5a90e",
   "metadata": {
    "papermill": {},
    "tags": []
   },
   "source": [
    "## Input"
   ]
  },
  {
   "cell_type": "markdown",
   "id": "08f84482-829f-4390-af2f-08ba2e55c351",
   "metadata": {
    "papermill": {},
    "tags": []
   },
   "source": [
    "### Import libraries"
   ]
  },
  {
   "cell_type": "code",
   "execution_count": null,
   "id": "4a7b4258-1744-4ff3-b012-ed9508eb6f54",
   "metadata": {
    "papermill": {},
    "tags": []
   },
   "source": "import matplotlib.pyplot as plt\nfrom matplotlib import cm\nfrom matplotlib.ticker import LinearLocator, FormatStrFormatter\nimport numpy as np",
   "outputs": []
  },
  {
   "cell_type": "markdown",
   "id": "1ba8ada4-8a1b-4826-807d-24656bbebc36",
   "metadata": {
    "papermill": {},
    "tags": []
   },
   "source": [
    "### Setup variables\n- `fig`: figure object\n- `ax`: axes object\n- `X`: x-axis data\n- `Y`: y-axis data\n- `Z`: z-axis data"
   ]
  },
  {
   "cell_type": "code",
   "execution_count": null,
   "id": "6a9183d0-c3ee-4bd9-b829-f7f98120f027",
   "metadata": {
    "papermill": {},
    "tags": []
   },
   "source": "fig = plt.figure()\nax = fig.gca(projection=\"3d\")\n# Make data.\nX = np.arange(-5, 5, 0.25)\nY = np.arange(-5, 5, 0.25)\nX, Y = np.meshgrid(X, Y)\nR = np.sqrt(X**2 + Y**2)\nZ = np.sin(R)",
   "outputs": []
  },
  {
   "cell_type": "markdown",
   "id": "57f9e006-9323-4ab9-aea8-922c5a49ef09",
   "metadata": {
    "papermill": {},
    "tags": []
   },
   "source": [
    "## Model"
   ]
  },
  {
   "cell_type": "markdown",
   "id": "f4ac3084-2942-4eb9-bd0d-5991f9a27bbb",
   "metadata": {
    "papermill": {},
    "tags": []
   },
   "source": [
    "### Plot surface"
   ]
  },
  {
   "cell_type": "code",
   "execution_count": null,
   "id": "6f13e045-2615-403a-8a18-310b00a91cd1",
   "metadata": {
    "papermill": {},
    "tags": []
   },
   "source": "# Plot the surface.\nsurf = ax.plot_surface(X, Y, Z, cmap=cm.coolwarm, linewidth=0, antialiased=False)\n# Customize the z axis.\nax.set_zlim(-1.01, 1.01)\nax.zaxis.set_major_locator(LinearLocator(10))\nax.zaxis.set_major_formatter(FormatStrFormatter(\"%.02f\"))\n# Add a color bar which maps values to colors.\nfig.colorbar(surf, shrink=0.5, aspect=5)\nplt.show()",
   "outputs": []
  },
  {
   "cell_type": "markdown",
   "id": "7f2ff656-5b87-4797-bffc-31dfa00b627c",
   "metadata": {
    "papermill": {},
    "tags": []
   },
   "source": [
    "## Output"
   ]
  },
  {
   "cell_type": "markdown",
   "id": "23add365-ff41-4832-95cf-7b1a9c24a5e4",
   "metadata": {
    "papermill": {},
    "tags": []
   },
   "source": [
    "### Display result"
   ]
  },
  {
   "cell_type": "code",
   "execution_count": null,
   "id": "e4144a7e-837d-406d-aebc-8c51ea2b6769",
   "metadata": {
    "papermill": {},
    "tags": []
   },
   "source": "# Export png with naas asset\nfrom naas.assets import Asset\n\nasset = Asset(\n    name=\"Matplotlib_Plot_Surface\",\n    description=\"Matplotlib Plot Surface\",\n    content_type=\"image/png\",\n    content=fig,\n)\nasset.save()",
   "outputs": []
  },
  {
   "cell_type": "markdown",
   "id": "b61aabc3-5a7d-4898-85b4-9c6e3948b4d6",
   "metadata": {
    "papermill": {},
    "tags": []
   },
   "source": [
    " "
   ]
  }
 ],
 "metadata": {
  "kernelspec": {
   "display_name": "Python 3",
   "language": "python",
   "name": "python3"
  },
  "language_info": {
   "codemirror_mode": {
    "name": "ipython",
    "version": 3
   },
   "file_extension": ".py",
   "mimetype": "text/x-python",
   "name": "python",
   "nbconvert_exporter": "python",
   "pygments_lexer": "ipython3",
   "version": "3.9.6"
  },
  "widgets": {
   "application/vnd.jupyter.widget-state+json": {
    "state": {},
    "version_major": 2,
    "version_minor": 0
   }
  }
 },
 "nbformat": 4,
 "nbformat_minor": 5
}