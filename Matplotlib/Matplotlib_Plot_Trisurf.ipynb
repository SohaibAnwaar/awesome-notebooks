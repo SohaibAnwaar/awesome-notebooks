{
 "cells": [
  {
   "cell_type": "markdown",
   "id": "1b324064-6edd-4364-af74-029577fcc602",
   "metadata": {
    "papermill": {},
    "tags": []
   },
   "source": [
    "<img width=\"10%\" alt=\"Naas\" src=\"https://landen.imgix.net/jtci2pxwjczr/assets/5ice39g4.png?w=160\"/>"
   ]
  },
  {
   "cell_type": "markdown",
   "id": "75f7f6e4-ca67-471c-8f07-be2fc38e5646",
   "metadata": {
    "papermill": {},
    "tags": []
   },
   "source": [
    "# Matplotlib - Plot Trisurf"
   ]
  },
  {
   "cell_type": "markdown",
   "id": "311e9b7b-1e39-4e07-bcd8-1a3f2451a79e",
   "metadata": {
    "papermill": {},
    "tags": []
   },
   "source": [
    "**Tags:** #matplotlib #plot #trisurf #3d #visualization #data"
   ]
  },
  {
   "cell_type": "markdown",
   "id": "ca968d26-a601-4aca-950e-5278d9555286",
   "metadata": {
    "papermill": {},
    "tags": []
   },
   "source": [
    "**Author:** [Firstname Lastname](https://www.linkedin.com/in/xxxx)"
   ]
  },
  {
   "cell_type": "markdown",
   "id": "a7b7c530-27a2-4ac6-9a8a-3cab8636a978",
   "metadata": {
    "papermill": {},
    "tags": []
   },
   "source": [
    "**Last update:** 2023-10-09 (Created: 2023-10-09)"
   ]
  },
  {
   "cell_type": "markdown",
   "id": "33dfb0af-47e3-4821-9265-d8560478d585",
   "metadata": {
    "papermill": {},
    "tags": []
   },
   "source": [
    "**Description:** This notebook will demonstrate how to plot a trisurf using Matplotlib. It is usefull for data visualization."
   ]
  },
  {
   "cell_type": "markdown",
   "id": "71d216ba-856f-4797-ad5c-6a4e6c90b9f6",
   "metadata": {
    "papermill": {},
    "tags": []
   },
   "source": [
    "**References:**\n- [Matplotlib - Plot Trisurf](https://matplotlib.org/stable/plot_types/3D/trisurf3d_simple.html)\n- [Matplotlib - 3D Surface Plots](https://matplotlib.org/3.2.1/tutorials/toolkits/mplot3d.html#surface-plots)"
   ]
  },
  {
   "cell_type": "markdown",
   "id": "d356eedc-4bfb-48ef-aed1-4fdf2a33b81d",
   "metadata": {
    "papermill": {},
    "tags": []
   },
   "source": [
    "## Input"
   ]
  },
  {
   "cell_type": "markdown",
   "id": "7319ed66-34f5-45c2-a7f1-60c1493bc1d6",
   "metadata": {
    "papermill": {},
    "tags": []
   },
   "source": [
    "### Import libraries"
   ]
  },
  {
   "cell_type": "code",
   "execution_count": null,
   "id": "d9d145fb-7403-49af-b121-4a4c23e27b79",
   "metadata": {
    "papermill": {},
    "tags": []
   },
   "source": "import matplotlib.pyplot as plt\nfrom mpl_toolkits.mplot3d import Axes3D\nimport numpy as np",
   "outputs": []
  },
  {
   "cell_type": "markdown",
   "id": "0c76f156-598c-4e02-b562-bf4ddee3afca",
   "metadata": {
    "papermill": {},
    "tags": []
   },
   "source": [
    "### Setup variables"
   ]
  },
  {
   "cell_type": "code",
   "execution_count": null,
   "id": "97a40dc5-d789-45eb-ab4f-8c2cde374283",
   "metadata": {
    "papermill": {},
    "tags": []
   },
   "source": "# Create data\nu = np.linspace(0, 2 * np.pi, 100)\nv = np.linspace(0, np.pi, 100)\nx = 10 * np.outer(np.cos(u), np.sin(v))\ny = 10 * np.outer(np.sin(u), np.sin(v))\nz = 10 * np.outer(np.ones(np.size(u)), np.cos(v))",
   "outputs": []
  },
  {
   "cell_type": "markdown",
   "id": "d995f352-a309-400c-8ebd-c6cd703f39b5",
   "metadata": {
    "papermill": {},
    "tags": []
   },
   "source": [
    "## Model"
   ]
  },
  {
   "cell_type": "markdown",
   "id": "bc80404e-3d13-46be-ab38-da4da24aa99d",
   "metadata": {
    "papermill": {},
    "tags": []
   },
   "source": [
    "### Plot trisurf"
   ]
  },
  {
   "cell_type": "code",
   "execution_count": null,
   "id": "2174cfb7-5f09-493c-b33f-c0f6fd6322b5",
   "metadata": {
    "papermill": {},
    "tags": []
   },
   "source": "# Plot the surface\nfig = plt.figure()\nax = fig.add_subplot(111, projection=\"3d\")\nax.plot_trisurf(x, y, z, cmap=\"viridis\", edgecolor=\"none\")\n# Show the plot\nplt.show()",
   "outputs": []
  },
  {
   "cell_type": "markdown",
   "id": "d9879700-c201-4992-a788-f63a9fd3d0de",
   "metadata": {
    "papermill": {},
    "tags": []
   },
   "source": [
    "## Output"
   ]
  },
  {
   "cell_type": "markdown",
   "id": "b290e08d-dff0-4fef-abf3-f1c820066c96",
   "metadata": {
    "papermill": {},
    "tags": []
   },
   "source": [
    "### Display result"
   ]
  },
  {
   "cell_type": "markdown",
   "id": "ee544d32-2ca8-4c34-8bb7-9cf48c4a90eb",
   "metadata": {
    "papermill": {},
    "tags": []
   },
   "source": [
    "The result is a 3D trisurf plot."
   ]
  },
  {
   "cell_type": "markdown",
   "id": "d0aa1e1e-e853-464e-9bfe-2e25c86cf76d",
   "metadata": {
    "papermill": {},
    "tags": []
   },
   "source": [
    "![alt text](https://github.com/callysto/curriculum-notebooks/blob/master/notebooks/images/Matplotlib_Trisurf.png?raw=true)"
   ]
  },
  {
   "cell_type": "markdown",
   "id": "61a0b828-0018-4cf5-8cf0-0eff3c4ab004",
   "metadata": {
    "papermill": {},
    "tags": []
   },
   "source": [
    " "
   ]
  },
  {
   "cell_type": "markdown",
   "id": "23804f4f-af7c-4472-9cb3-0b7a6db2edff",
   "metadata": {
    "papermill": {},
    "tags": []
   },
   "source": [
    " "
   ]
  }
 ],
 "metadata": {
  "kernelspec": {
   "display_name": "Python 3",
   "language": "python",
   "name": "python3"
  },
  "language_info": {
   "codemirror_mode": {
    "name": "ipython",
    "version": 3
   },
   "file_extension": ".py",
   "mimetype": "text/x-python",
   "name": "python",
   "nbconvert_exporter": "python",
   "pygments_lexer": "ipython3",
   "version": "3.9.6"
  },
  "widgets": {
   "application/vnd.jupyter.widget-state+json": {
    "state": {},
    "version_major": 2,
    "version_minor": 0
   }
  }
 },
 "nbformat": 4,
 "nbformat_minor": 5
}