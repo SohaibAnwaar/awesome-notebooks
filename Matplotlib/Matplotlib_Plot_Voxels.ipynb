{
 "cells": [
  {
   "cell_type": "markdown",
   "id": "2e64375f-9d2a-4b6b-86f1-9ff451c09016",
   "metadata": {
    "papermill": {},
    "tags": []
   },
   "source": [
    "<img width=\"10%\" alt=\"Naas\" src=\"https://landen.imgix.net/jtci2pxwjczr/assets/5ice39g4.png?w=160\"/>"
   ]
  },
  {
   "cell_type": "markdown",
   "id": "93d7ffed-03d1-4350-a775-10fd3b9d4aab",
   "metadata": {
    "papermill": {},
    "tags": []
   },
   "source": [
    "# Matplotlib - Plot Voxels"
   ]
  },
  {
   "cell_type": "markdown",
   "id": "3cdf8aa0-df48-4b1f-94f3-a5ddedfe4c15",
   "metadata": {
    "papermill": {},
    "tags": []
   },
   "source": [
    "**Tags:** #matplotlib #plot #voxels #3d #visualization #data"
   ]
  },
  {
   "cell_type": "markdown",
   "id": "6fc16881-3b8f-4216-ac47-3b594ce78282",
   "metadata": {
    "papermill": {},
    "tags": []
   },
   "source": [
    "**Author:** [Firstname Lastname](https://www.linkedin.com/in/xxxx)"
   ]
  },
  {
   "cell_type": "markdown",
   "id": "7f2f83c1-0f51-4648-a5c8-0d4a1a2f43c2",
   "metadata": {
    "papermill": {},
    "tags": []
   },
   "source": [
    "**Last update:** 2023-10-09 (Created: 2023-10-09)"
   ]
  },
  {
   "cell_type": "markdown",
   "id": "0c56c650-0c69-448d-b359-902096a966a1",
   "metadata": {
    "papermill": {},
    "tags": []
   },
   "source": [
    "**Description:** This notebook will show how to plot voxels using Matplotlib. It is usefull for data visualization."
   ]
  },
  {
   "cell_type": "markdown",
   "id": "1ee59852-ec96-45f0-8735-ace2133704bb",
   "metadata": {
    "papermill": {},
    "tags": []
   },
   "source": [
    "**References:**\n- [Matplotlib - Plot Voxels](https://matplotlib.org/stable/plot_types/3D/voxels_simple.html)\n- [Matplotlib - 3D Plotting](https://matplotlib.org/3.2.1/tutorials/toolkits/mplot3d.html)"
   ]
  },
  {
   "cell_type": "markdown",
   "id": "57de6277-0e38-42bb-8944-f16aee59d7ae",
   "metadata": {
    "papermill": {},
    "tags": []
   },
   "source": [
    "## Input"
   ]
  },
  {
   "cell_type": "markdown",
   "id": "f0954715-6dbf-439e-9407-f4b0a815d23a",
   "metadata": {
    "papermill": {},
    "tags": []
   },
   "source": [
    "### Import libraries"
   ]
  },
  {
   "cell_type": "code",
   "execution_count": null,
   "id": "d3cbd5e8-d2f8-410f-a453-95df654e8db0",
   "metadata": {
    "papermill": {},
    "tags": []
   },
   "source": "import matplotlib.pyplot as plt\nfrom mpl_toolkits.mplot3d import Axes3D",
   "outputs": []
  },
  {
   "cell_type": "markdown",
   "id": "ac9b7754-61df-4cb5-ad64-0df17f776dcb",
   "metadata": {
    "papermill": {},
    "tags": []
   },
   "source": [
    "### Setup variables"
   ]
  },
  {
   "cell_type": "code",
   "execution_count": null,
   "id": "ce2db9be-ee64-4314-a26d-aa3cd8b87246",
   "metadata": {
    "papermill": {},
    "tags": []
   },
   "source": "x, y, z = (1, 1, 1)",
   "outputs": []
  },
  {
   "cell_type": "markdown",
   "id": "55d4f61e-6d68-42e1-ac45-e0bb3bcaa0e1",
   "metadata": {
    "papermill": {},
    "tags": []
   },
   "source": [
    "## Model"
   ]
  },
  {
   "cell_type": "markdown",
   "id": "45e9c469-ab9f-4870-af81-f6655b572b2d",
   "metadata": {
    "papermill": {},
    "tags": []
   },
   "source": [
    "### Plot voxels"
   ]
  },
  {
   "cell_type": "code",
   "execution_count": null,
   "id": "c2b57988-0c63-4374-abd2-039ef52e3c57",
   "metadata": {
    "papermill": {},
    "tags": []
   },
   "source": "fig = plt.figure()\nax = fig.add_subplot(111, projection=\"3d\")\nax.voxels(x, y, z, edgecolor=\"k\")\nplt.show()",
   "outputs": []
  },
  {
   "cell_type": "markdown",
   "id": "7fdebb6f-5df5-4565-8547-836b38990672",
   "metadata": {
    "papermill": {},
    "tags": []
   },
   "source": [
    "## Output"
   ]
  },
  {
   "cell_type": "markdown",
   "id": "623c814d-876d-4dc8-8449-4e449b9c452e",
   "metadata": {
    "papermill": {},
    "tags": []
   },
   "source": [
    "### Display result"
   ]
  },
  {
   "cell_type": "markdown",
   "id": "d5fd2fd5-556d-49e5-9508-f0fafe4dfc54",
   "metadata": {
    "papermill": {},
    "tags": []
   },
   "source": [
    "The result is a 3D plot of a voxel."
   ]
  },
  {
   "cell_type": "markdown",
   "id": "bda60a2d-a5c8-47a4-8ce7-a4a1d3b3be68",
   "metadata": {
    "papermill": {},
    "tags": []
   },
   "source": [
    " "
   ]
  },
  {
   "cell_type": "markdown",
   "id": "6e4eed9c-9ce6-4406-b6e9-35d98f6bcd26",
   "metadata": {
    "papermill": {},
    "tags": []
   },
   "source": [
    " "
   ]
  }
 ],
 "metadata": {
  "kernelspec": {
   "display_name": "Python 3",
   "language": "python",
   "name": "python3"
  },
  "language_info": {
   "codemirror_mode": {
    "name": "ipython",
    "version": 3
   },
   "file_extension": ".py",
   "mimetype": "text/x-python",
   "name": "python",
   "nbconvert_exporter": "python",
   "pygments_lexer": "ipython3",
   "version": "3.9.6"
  },
  "widgets": {
   "application/vnd.jupyter.widget-state+json": {
    "state": {},
    "version_major": 2,
    "version_minor": 0
   }
  }
 },
 "nbformat": 4,
 "nbformat_minor": 5
}