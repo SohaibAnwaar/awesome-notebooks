{
 "cells": [
  {
   "cell_type": "markdown",
   "id": "9b65a128-58bb-4ebf-96e5-d49a7053a513",
   "metadata": {
    "papermill": {},
    "tags": []
   },
   "source": [
    "<img width=\"10%\" alt=\"Naas\" src=\"https://landen.imgix.net/jtci2pxwjczr/assets/5ice39g4.png?w=160\"/>"
   ]
  },
  {
   "cell_type": "markdown",
   "id": "897c2b36-f33f-4266-95b5-0835292cbb52",
   "metadata": {
    "papermill": {},
    "tags": []
   },
   "source": [
    "# Nylas - Read Inbox"
   ]
  },
  {
   "cell_type": "markdown",
   "id": "f0268c0a-d163-44a7-9bce-ea08405a8054",
   "metadata": {
    "papermill": {},
    "tags": []
   },
   "source": [
    "**Tags:** #nylas #email #inbox #read #dataframe #python"
   ]
  },
  {
   "cell_type": "markdown",
   "id": "bd5a8783-641c-4777-a07b-55efe83a30a7",
   "metadata": {
    "papermill": {},
    "tags": []
   },
   "source": [
    "**Author:** [Firstname Lastname]()"
   ]
  },
  {
   "cell_type": "markdown",
   "id": "65b125a2-cb7b-4825-bd0e-718d7f0cf0a1",
   "metadata": {
    "papermill": {},
    "tags": []
   },
   "source": [
    "**Last update:** 2023-10-08 (Created: 2023-10-08)"
   ]
  },
  {
   "cell_type": "markdown",
   "id": "4f67d040-4e62-4db2-84c3-daaf208baea8",
   "metadata": {
    "papermill": {},
    "tags": []
   },
   "source": [
    "**Description:** This notebook uses Nylas to read email inbox data and apply different filters like reading threads, latest email from a particular account, and showcase all the email with contents in a dataframe format using individual routines for every functions."
   ]
  },
  {
   "cell_type": "markdown",
   "id": "622f9edc-2b5b-4fcc-afb9-450d4e4ef106",
   "metadata": {
    "papermill": {},
    "tags": []
   },
   "source": [
    "**References:**\n- [Nylas Python SDK](https://developer.nylas.com/docs/sdks/python/)\n- [Python Dataframe](https://pandas.pydata.org/pandas-docs/stable/reference/api/pandas.DataFrame.html)"
   ]
  },
  {
   "cell_type": "markdown",
   "id": "d43d874a-94f6-4b1f-9c17-40c9e5b39a4d",
   "metadata": {
    "papermill": {},
    "tags": []
   },
   "source": [
    "## Input"
   ]
  },
  {
   "cell_type": "markdown",
   "id": "203b5e66-201b-463c-bb1b-b11f9f0ac2d8",
   "metadata": {
    "papermill": {},
    "tags": []
   },
   "source": [
    "### Import libraries"
   ]
  },
  {
   "cell_type": "code",
   "execution_count": null,
   "id": "4a510578-9e65-45d1-850d-6e06f05965a6",
   "metadata": {
    "papermill": {},
    "tags": []
   },
   "source": "import nylas\nimport pandas as pd",
   "outputs": []
  },
  {
   "cell_type": "markdown",
   "id": "99cdf3ad-a09b-45a4-914b-f73d7747daa7",
   "metadata": {
    "papermill": {},
    "tags": []
   },
   "source": [
    "### Setup variables\n- `APP_ID`: Nylas App ID\n- `APP_SECRET`: Nylas App Secret\n- `ACCESS_TOKEN`: Nylas Access Token"
   ]
  },
  {
   "cell_type": "markdown",
   "id": "c43aae80-9134-4d2b-a86b-2b8a03c1d7dd",
   "metadata": {
    "papermill": {},
    "tags": []
   },
   "source": [
    "To get the `APP_ID`, `APP_SECRET` and `ACCESS_TOKEN`, please refer to the [Nylas Documentation](https://developer.nylas.com/docs/getting-started/authentication)."
   ]
  },
  {
   "cell_type": "code",
   "execution_count": null,
   "id": "145864a6-b71a-4b03-a2ad-e40fc1535ca2",
   "metadata": {
    "papermill": {},
    "tags": []
   },
   "source": "APP_ID = \"<APP_ID>\"\nAPP_SECRET = \"<APP_SECRET>\"\nACCESS_TOKEN = \"<ACCESS_TOKEN>\"",
   "outputs": []
  },
  {
   "cell_type": "markdown",
   "id": "9c86ca2d-b5f1-4d42-8829-c6bff639c67b",
   "metadata": {
    "papermill": {},
    "tags": []
   },
   "source": [
    "## Model"
   ]
  },
  {
   "cell_type": "markdown",
   "id": "39c42a7b-56d0-4776-8362-e6808c0b2ae2",
   "metadata": {
    "papermill": {},
    "tags": []
   },
   "source": [
    "### Read Inbox"
   ]
  },
  {
   "cell_type": "markdown",
   "id": "42a3b31e-f9db-437f-9f37-0dbe0d90fd20",
   "metadata": {
    "papermill": {},
    "tags": []
   },
   "source": [
    "This routine will read the inbox data and store it in a dataframe format."
   ]
  },
  {
   "cell_type": "code",
   "execution_count": null,
   "id": "61a0b741-f46e-430d-b128-f3c89a4b7654",
   "metadata": {
    "papermill": {},
    "tags": []
   },
   "source": "# Initialize the Nylas client\nnylas = nylas.APIClient(APP_ID, APP_SECRET, ACCESS_TOKEN)\n# Get the inbox data\ninbox_data = nylas.inbox.all()\n# Store the inbox data in a dataframe\ninbox_df = pd.DataFrame(inbox_data)",
   "outputs": []
  },
  {
   "cell_type": "markdown",
   "id": "832e035a-1a8a-4d2f-b56a-f683edbe80e0",
   "metadata": {
    "papermill": {},
    "tags": []
   },
   "source": [
    "## Output"
   ]
  },
  {
   "cell_type": "markdown",
   "id": "c9fc937d-ce30-43d5-9a41-a0251c950854",
   "metadata": {
    "papermill": {},
    "tags": []
   },
   "source": [
    "### Display result"
   ]
  },
  {
   "cell_type": "code",
   "execution_count": null,
   "id": "6b725f1a-b229-4923-951a-7c84ba68c1ab",
   "metadata": {
    "papermill": {},
    "tags": []
   },
   "source": "inbox_df.head()",
   "outputs": []
  },
  {
   "cell_type": "markdown",
   "id": "488b91db-fe45-4984-af23-413b07933ba9",
   "metadata": {
    "papermill": {},
    "tags": []
   },
   "source": [
    " "
   ]
  }
 ],
 "metadata": {
  "kernelspec": {
   "display_name": "Python 3",
   "language": "python",
   "name": "python3"
  },
  "language_info": {
   "codemirror_mode": {
    "name": "ipython",
    "version": 3
   },
   "file_extension": ".py",
   "mimetype": "text/x-python",
   "name": "python",
   "nbconvert_exporter": "python",
   "pygments_lexer": "ipython3",
   "version": "3.9.6"
  },
  "widgets": {
   "application/vnd.jupyter.widget-state+json": {
    "state": {},
    "version_major": 2,
    "version_minor": 0
   }
  }
 },
 "nbformat": 4,
 "nbformat_minor": 5
}