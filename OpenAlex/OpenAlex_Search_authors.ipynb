{
 "cells": [
  {
   "cell_type": "markdown",
   "id": "362b5194-e08f-4b5c-854c-6fcd73dbcf8f",
   "metadata": {
    "papermill": {},
    "tags": []
   },
   "source": [
    "<img width=\"8%\" alt=\"Naas.png\" src=\"https://raw.githubusercontent.com/jupyter-naas/awesome-notebooks/master/.github/assets/logos/Naas.png\" style=\"border-radius: 15%\">"
   ]
  },
  {
   "cell_type": "markdown",
   "id": "7c2e6708-85bf-4085-bf80-9c9c0b64039d",
   "metadata": {
    "papermill": {},
    "tags": []
   },
   "source": [
    "# OpenAlex - Search authors"
   ]
  },
  {
   "cell_type": "markdown",
   "id": "4cead28b-ed58-4597-afda-04e32f8c824d",
   "metadata": {
    "papermill": {},
    "tags": []
   },
   "source": [
    "**Tags:** #openalex #api #authors #search #entities #reference"
   ]
  },
  {
   "cell_type": "markdown",
   "id": "3aa55f7d-d515-4759-8f56-918436fc7835",
   "metadata": {
    "papermill": {},
    "tags": []
   },
   "source": [
    "**Author:** [Firstname Lastname](https://www.linkedin.com/in/xxxx)"
   ]
  },
  {
   "cell_type": "markdown",
   "id": "35e8de18-c3a3-4635-9217-0525aefc4639",
   "metadata": {
    "papermill": {},
    "tags": []
   },
   "source": [
    "**Last update:** 2023-12-08 (Created: 2023-12-08)"
   ]
  },
  {
   "cell_type": "markdown",
   "id": "d8c162de-9e23-477e-a1d1-f725a5b67af6",
   "metadata": {
    "papermill": {},
    "tags": []
   },
   "source": [
    "**Description:** This notebook searches authors using OpenAlex API. It allows to find authors by name, email, or other criteria."
   ]
  },
  {
   "cell_type": "markdown",
   "id": "5f1a1d8f-53a0-42d5-96ad-4c08e0523410",
   "metadata": {
    "papermill": {},
    "tags": []
   },
   "source": [
    "**References:**\n- [OpenAlex API - Search authors](https://docs.openalex.org/api-entities/authors/search-authors)\n- [OpenAlex API - Author entity](https://docs.openalex.org/api-entities/authors/author-entity)"
   ]
  },
  {
   "cell_type": "markdown",
   "id": "51e995cd-bb83-4f4e-a92f-5df92fa47b38",
   "metadata": {
    "papermill": {},
    "tags": []
   },
   "source": [
    "## Input"
   ]
  },
  {
   "cell_type": "markdown",
   "id": "45d7aaa9-171a-4f2f-80f8-688a24f96aa8",
   "metadata": {
    "papermill": {},
    "tags": []
   },
   "source": [
    "### Import libraries"
   ]
  },
  {
   "cell_type": "code",
   "execution_count": null,
   "id": "16c09e9a-13af-4a9b-ab32-93bf6a45334a",
   "metadata": {
    "papermill": {},
    "tags": []
   },
   "source": "import requests\nimport json",
   "outputs": []
  },
  {
   "cell_type": "markdown",
   "id": "48884848-a04d-4f84-8254-e1717738782d",
   "metadata": {
    "papermill": {},
    "tags": []
   },
   "source": [
    "### Setup variables\n- **base_url**: URL of the OpenAlex API\n- **headers**: Headers of the request\n- **params**: Parameters of the request"
   ]
  },
  {
   "cell_type": "code",
   "execution_count": null,
   "id": "0118fa21-d790-4967-9710-d4da5671d046",
   "metadata": {
    "papermill": {},
    "tags": []
   },
   "source": "base_url = \"https://api.openalex.org/v1/authors/search\"\nheaders = {\"Content-Type\": \"application/json\"}\nparams = {\"name\": \"John Doe\"}",
   "outputs": []
  },
  {
   "cell_type": "markdown",
   "id": "cd88b7c5-be72-4e64-a9a1-88a54de62297",
   "metadata": {
    "papermill": {},
    "tags": []
   },
   "source": [
    "## Model"
   ]
  },
  {
   "cell_type": "markdown",
   "id": "c9e22540-3689-420b-bc72-f0023bdf9208",
   "metadata": {
    "papermill": {},
    "tags": []
   },
   "source": [
    "### Search authors"
   ]
  },
  {
   "cell_type": "markdown",
   "id": "63a00979-9b06-41b3-876c-f6dbb17972ea",
   "metadata": {
    "papermill": {},
    "tags": []
   },
   "source": [
    "This function searches authors using OpenAlex API. It allows to find authors by name, email, or other criteria."
   ]
  },
  {
   "cell_type": "code",
   "execution_count": null,
   "id": "964ed5bb-8f59-4533-9d88-d9ac97e72c29",
   "metadata": {
    "papermill": {},
    "tags": []
   },
   "source": "response = requests.get(base_url, headers=headers, params=params)\ndata = response.json()",
   "outputs": []
  },
  {
   "cell_type": "markdown",
   "id": "024c90d8-2c8e-4b4c-bd20-4d6c57704565",
   "metadata": {
    "papermill": {},
    "tags": []
   },
   "source": [
    "## Output"
   ]
  },
  {
   "cell_type": "markdown",
   "id": "3def3af0-a4ca-415b-b85e-20ca3f3eb8ae",
   "metadata": {
    "papermill": {},
    "tags": []
   },
   "source": [
    "### Display result"
   ]
  },
  {
   "cell_type": "code",
   "execution_count": null,
   "id": "b8ac3e6a-8581-491a-992b-b8c4be9a1643",
   "metadata": {
    "papermill": {},
    "tags": []
   },
   "source": "print(json.dumps(data, indent=4))",
   "outputs": []
  }
 ],
 "metadata": {
  "kernelspec": {
   "display_name": "Python 3",
   "language": "python",
   "name": "python3"
  },
  "language_info": {
   "codemirror_mode": {
    "name": "ipython",
    "version": 3
   },
   "file_extension": ".py",
   "mimetype": "text/x-python",
   "name": "python",
   "nbconvert_exporter": "python",
   "pygments_lexer": "ipython3",
   "version": "3.9.6"
  },
  "widgets": {
   "application/vnd.jupyter.widget-state+json": {
    "state": {},
    "version_major": 2,
    "version_minor": 0
   }
  }
 },
 "nbformat": 4,
 "nbformat_minor": 5
}