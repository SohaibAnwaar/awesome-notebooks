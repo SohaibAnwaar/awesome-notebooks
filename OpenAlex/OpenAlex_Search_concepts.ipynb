{
 "cells": [
  {
   "cell_type": "markdown",
   "id": "be7d7a29-ddf5-4593-9da3-b18d506a14a9",
   "metadata": {
    "papermill": {},
    "tags": []
   },
   "source": [
    "<img width=\"8%\" alt=\"Naas.png\" src=\"https://raw.githubusercontent.com/jupyter-naas/awesome-notebooks/master/.github/assets/logos/Naas.png\" style=\"border-radius: 15%\">"
   ]
  },
  {
   "cell_type": "markdown",
   "id": "25501052-be2d-463d-bb42-b2d8759d8742",
   "metadata": {
    "papermill": {},
    "tags": []
   },
   "source": [
    "# OpenAlex - Search concepts"
   ]
  },
  {
   "cell_type": "markdown",
   "id": "6627e8a6-57a6-44c6-967e-1cd92e189bc4",
   "metadata": {
    "papermill": {},
    "tags": []
   },
   "source": [
    "**Tags:** #openalex #concepts #search #api #entities #reference"
   ]
  },
  {
   "cell_type": "markdown",
   "id": "ed02875e-03f4-4894-9c0d-80cf169584cf",
   "metadata": {
    "papermill": {},
    "tags": []
   },
   "source": [
    "**Author:** [Firstname Lastname](https://www.linkedin.com/in/xxxx)"
   ]
  },
  {
   "cell_type": "markdown",
   "id": "8a4d2294-fec4-4009-af2c-cc76700b8dbb",
   "metadata": {
    "papermill": {},
    "tags": []
   },
   "source": [
    "**Last update:** 2023-12-08 (Created: 2023-12-08)"
   ]
  },
  {
   "cell_type": "markdown",
   "id": "3e087158-33d2-4ada-a7bf-8dcf0ad46b95",
   "metadata": {
    "papermill": {},
    "tags": []
   },
   "source": [
    "**Description:** This notebook will search concepts from OpenAlex API. It will use the API entities to search for concepts."
   ]
  },
  {
   "cell_type": "markdown",
   "id": "9da463b2-4a9f-4de4-b089-d40d6c1fa1ab",
   "metadata": {
    "papermill": {},
    "tags": []
   },
   "source": [
    "**References:**\n- [OpenAlex API entities](https://docs.openalex.org/api-entities/concepts/search-concepts)"
   ]
  },
  {
   "cell_type": "markdown",
   "id": "faf931cf-030e-4c76-8498-736f9adb12c4",
   "metadata": {
    "papermill": {},
    "tags": []
   },
   "source": [
    "## Input"
   ]
  },
  {
   "cell_type": "markdown",
   "id": "92b0385b-8058-4801-8c25-3f78ab0138dd",
   "metadata": {
    "papermill": {},
    "tags": []
   },
   "source": [
    "### Import libraries"
   ]
  },
  {
   "cell_type": "code",
   "execution_count": null,
   "id": "6ff7827c-7296-4a04-90bc-405f96a2d147",
   "metadata": {
    "papermill": {},
    "tags": []
   },
   "source": "import requests",
   "outputs": []
  },
  {
   "cell_type": "markdown",
   "id": "6f48f54f-3a8b-470f-ba97-4efbe46c41cf",
   "metadata": {
    "papermill": {},
    "tags": []
   },
   "source": [
    "### Setup variables\n- **API_KEY**: API key to access OpenAlex API. [How to get an API key?](https://docs.openalex.org/getting-started/api-key)"
   ]
  },
  {
   "cell_type": "code",
   "execution_count": null,
   "id": "10d7983f-6842-450a-a406-439f06c69ff5",
   "metadata": {
    "papermill": {},
    "tags": []
   },
   "source": "API_KEY = \"YOUR_API_KEY\"",
   "outputs": []
  },
  {
   "cell_type": "markdown",
   "id": "bff59438-b589-42f6-b8cb-772800692777",
   "metadata": {
    "papermill": {},
    "tags": []
   },
   "source": [
    "## Model"
   ]
  },
  {
   "cell_type": "markdown",
   "id": "9fe23a7c-4bd7-4433-9516-3b0ba0383f89",
   "metadata": {
    "papermill": {},
    "tags": []
   },
   "source": [
    "### Search concepts"
   ]
  },
  {
   "cell_type": "markdown",
   "id": "c7f1eb00-43be-445a-9af7-312d38bd1e22",
   "metadata": {
    "papermill": {},
    "tags": []
   },
   "source": [
    "This function will search for concepts using the OpenAlex API entities."
   ]
  },
  {
   "cell_type": "code",
   "execution_count": null,
   "id": "0b1350d8-912f-4649-95cb-568e338440b7",
   "metadata": {
    "papermill": {},
    "tags": []
   },
   "source": "def search_concepts(api_key):\n    url = \"https://api.openalex.org/v1/concepts/search\"\n    headers = {\"Authorization\": f\"Bearer {api_key}\"}\n    params = {\"query\": \"concepts\"}\n    response = requests.get(url, headers=headers, params=params)\n    return response.json()",
   "outputs": []
  },
  {
   "cell_type": "markdown",
   "id": "0f390595-8c84-497a-90cc-c93a5663ded4",
   "metadata": {
    "papermill": {},
    "tags": []
   },
   "source": [
    "## Output"
   ]
  },
  {
   "cell_type": "markdown",
   "id": "fd4cb50a-b2e9-4954-b9a8-877e8d4bb7b4",
   "metadata": {
    "papermill": {},
    "tags": []
   },
   "source": [
    "### Display result"
   ]
  },
  {
   "cell_type": "code",
   "execution_count": null,
   "id": "7d8f9f3d-4d3e-43c0-824f-c58a461b9d93",
   "metadata": {
    "papermill": {},
    "tags": []
   },
   "source": "result = search_concepts(API_KEY)\nprint(result)",
   "outputs": []
  }
 ],
 "metadata": {
  "kernelspec": {
   "display_name": "Python 3",
   "language": "python",
   "name": "python3"
  },
  "language_info": {
   "codemirror_mode": {
    "name": "ipython",
    "version": 3
   },
   "file_extension": ".py",
   "mimetype": "text/x-python",
   "name": "python",
   "nbconvert_exporter": "python",
   "pygments_lexer": "ipython3",
   "version": "3.9.6"
  },
  "widgets": {
   "application/vnd.jupyter.widget-state+json": {
    "state": {},
    "version_major": 2,
    "version_minor": 0
   }
  }
 },
 "nbformat": 4,
 "nbformat_minor": 5
}