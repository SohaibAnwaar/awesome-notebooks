{
 "cells": [
  {
   "cell_type": "markdown",
   "id": "8a72f598-e837-4d92-ae09-8181588f0513",
   "metadata": {
    "papermill": {},
    "tags": []
   },
   "source": [
    "<img width=\"8%\" alt=\"Naas.png\" src=\"https://raw.githubusercontent.com/jupyter-naas/awesome-notebooks/master/.github/assets/logos/Naas.png\" style=\"border-radius: 15%\">"
   ]
  },
  {
   "cell_type": "markdown",
   "id": "f189a7d6-3f60-4a32-95b2-c661be7dc068",
   "metadata": {
    "papermill": {},
    "tags": []
   },
   "source": [
    "# OpenAlex - Search Funders"
   ]
  },
  {
   "cell_type": "markdown",
   "id": "f3d0adca-6879-4a8c-a7fc-9a92beada52a",
   "metadata": {
    "papermill": {},
    "tags": []
   },
   "source": [
    "**Tags:** #openalex #funders #search #api #entities #reference"
   ]
  },
  {
   "cell_type": "markdown",
   "id": "e8ba4875-1ad0-406c-bdfd-d59f91754217",
   "metadata": {
    "papermill": {},
    "tags": []
   },
   "source": [
    "**Author:** [Firstname Lastname](https://www.linkedin.com/in/xxxx)"
   ]
  },
  {
   "cell_type": "markdown",
   "id": "47bda4eb-a611-435c-8181-be4cce3128b3",
   "metadata": {
    "papermill": {},
    "tags": []
   },
   "source": [
    "**Last update:** 2023-12-08 (Created: 2023-12-08)"
   ]
  },
  {
   "cell_type": "markdown",
   "id": "4eeff92a-e917-474a-8494-64bba6c72d37",
   "metadata": {
    "papermill": {},
    "tags": []
   },
   "source": [
    "**Description:** This notebook searches funders using OpenAlex API. It provides a list of funders and their associated information."
   ]
  },
  {
   "cell_type": "markdown",
   "id": "b6658396-91c3-4b9d-9bf2-bd9a18a01b4e",
   "metadata": {
    "papermill": {},
    "tags": []
   },
   "source": [
    "**References:**\n- [OpenAlex API - Entities - Search Funders](https://docs.openalex.org/api-entities/funders/search-funders)\n- [OpenAlex API - Entities - Funders](https://docs.openalex.org/api-entities/funders)"
   ]
  },
  {
   "cell_type": "markdown",
   "id": "34ded3ee-3cfa-4aac-b8b3-dbff78b7831d",
   "metadata": {
    "papermill": {},
    "tags": []
   },
   "source": [
    "## Input"
   ]
  },
  {
   "cell_type": "markdown",
   "id": "74399074-7db0-4957-82fa-9a1e1f029cdd",
   "metadata": {
    "papermill": {},
    "tags": []
   },
   "source": [
    "### Import libraries"
   ]
  },
  {
   "cell_type": "code",
   "execution_count": null,
   "id": "abd354df-7553-43fd-8bd0-d4a00c046831",
   "metadata": {
    "papermill": {},
    "tags": []
   },
   "source": "import requests\nimport json",
   "outputs": []
  },
  {
   "cell_type": "markdown",
   "id": "d907d6b8-7c75-4dc4-8740-9cc98ed9e4e2",
   "metadata": {
    "papermill": {},
    "tags": []
   },
   "source": [
    "### Setup variables\n- **api_key**: API key provided by OpenAlex\n- **url**: URL of the OpenAlex API"
   ]
  },
  {
   "cell_type": "code",
   "execution_count": null,
   "id": "55406351-dd63-463f-b46f-13bfbeb9fc25",
   "metadata": {
    "papermill": {},
    "tags": []
   },
   "source": "api_key = \"<api_key>\"\nurl = \"https://api.openalex.org/v1/entities/funders/search\"",
   "outputs": []
  },
  {
   "cell_type": "markdown",
   "id": "3ac4c16e-4adb-461b-8584-26cd046b5efc",
   "metadata": {
    "papermill": {},
    "tags": []
   },
   "source": [
    "## Model"
   ]
  },
  {
   "cell_type": "markdown",
   "id": "e9a6ce6b-3460-429f-b3df-afa069ffb24d",
   "metadata": {
    "papermill": {},
    "tags": []
   },
   "source": [
    "### Search Funders"
   ]
  },
  {
   "cell_type": "markdown",
   "id": "87f4d6ad-1eb2-47f3-9cb5-408fb3e704cd",
   "metadata": {
    "papermill": {},
    "tags": []
   },
   "source": [
    "This function searches funders using OpenAlex API. It provides a list of funders and their associated information."
   ]
  },
  {
   "cell_type": "code",
   "execution_count": null,
   "id": "1b6c17c0-e6d8-4182-ac7b-2389de760389",
   "metadata": {
    "papermill": {},
    "tags": []
   },
   "source": "def search_funders(api_key, url):\n    headers = {\"Authorization\": \"Bearer \" + api_key}\n    response = requests.get(url, headers=headers)\n    return response.json()",
   "outputs": []
  },
  {
   "cell_type": "markdown",
   "id": "9d97ed25-2211-488e-b0e5-158b632b7570",
   "metadata": {
    "papermill": {},
    "tags": []
   },
   "source": [
    "## Output"
   ]
  },
  {
   "cell_type": "markdown",
   "id": "adf7b871-ec60-4474-9d09-28bb6dec0fb4",
   "metadata": {
    "papermill": {},
    "tags": []
   },
   "source": [
    "### Display result"
   ]
  },
  {
   "cell_type": "code",
   "execution_count": null,
   "id": "5b9f94e3-cd75-4cd4-85f3-cb98ef38d196",
   "metadata": {
    "papermill": {},
    "tags": []
   },
   "source": "funders = search_funders(api_key, url)\nprint(json.dumps(funders, indent=4))",
   "outputs": []
  },
  {
   "cell_type": "markdown",
   "id": "9b7086e0-a52f-4b5e-ae12-f1eb7259e848",
   "metadata": {
    "papermill": {},
    "tags": []
   },
   "source": [
    " "
   ]
  }
 ],
 "metadata": {
  "kernelspec": {
   "display_name": "Python 3",
   "language": "python",
   "name": "python3"
  },
  "language_info": {
   "codemirror_mode": {
    "name": "ipython",
    "version": 3
   },
   "file_extension": ".py",
   "mimetype": "text/x-python",
   "name": "python",
   "nbconvert_exporter": "python",
   "pygments_lexer": "ipython3",
   "version": "3.9.6"
  },
  "widgets": {
   "application/vnd.jupyter.widget-state+json": {
    "state": {},
    "version_major": 2,
    "version_minor": 0
   }
  }
 },
 "nbformat": 4,
 "nbformat_minor": 5
}