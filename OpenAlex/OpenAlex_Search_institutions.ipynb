{
 "cells": [
  {
   "cell_type": "markdown",
   "id": "0f4ca9ed-a6a8-46bb-ac02-92eb5aa0fee4",
   "metadata": {
    "papermill": {},
    "tags": []
   },
   "source": [
    "<img width=\"8%\" alt=\"Naas.png\" src=\"https://raw.githubusercontent.com/jupyter-naas/awesome-notebooks/master/.github/assets/logos/Naas.png\" style=\"border-radius: 15%\">"
   ]
  },
  {
   "cell_type": "markdown",
   "id": "de2c8534-ad95-4355-87ff-1ed712beb1a8",
   "metadata": {
    "papermill": {},
    "tags": []
   },
   "source": [
    "# OpenAlex - Search institutions"
   ]
  },
  {
   "cell_type": "markdown",
   "id": "f6183d7b-f93b-41d0-b1fb-313c6a854275",
   "metadata": {
    "papermill": {},
    "tags": []
   },
   "source": [
    "**Tags:** #openalex #institutions #search #api #entities #reference"
   ]
  },
  {
   "cell_type": "markdown",
   "id": "4abe7cb2-91ac-4610-b489-e6e241c33753",
   "metadata": {
    "papermill": {},
    "tags": []
   },
   "source": [
    "**Author:** [Firstname Lastname](https://www.linkedin.com/in/xxxx)"
   ]
  },
  {
   "cell_type": "markdown",
   "id": "69132352-8527-4144-8230-e0cee0e3d66f",
   "metadata": {
    "papermill": {},
    "tags": []
   },
   "source": [
    "**Last update:** 2023-12-08 (Created: 2023-12-08)"
   ]
  },
  {
   "cell_type": "markdown",
   "id": "0182d208-f688-4db5-8817-5fd3360d6016",
   "metadata": {
    "papermill": {},
    "tags": []
   },
   "source": [
    "**Description:** This notebook will search institutions using OpenAlex API. It will provide a list of institutions based on the search criteria."
   ]
  },
  {
   "cell_type": "markdown",
   "id": "591f1236-c363-4d75-90fc-9c12d200f543",
   "metadata": {
    "papermill": {},
    "tags": []
   },
   "source": [
    "**References:**\n- [OpenAlex API - Entities](https://docs.openalex.org/api-entities/institutions/search-institutions)\n- [OpenAlex API - Authentication](https://docs.openalex.org/authentication)"
   ]
  },
  {
   "cell_type": "markdown",
   "id": "46230cc5-ffcc-41ab-898b-ade2fde939b3",
   "metadata": {
    "papermill": {},
    "tags": []
   },
   "source": [
    "## Input"
   ]
  },
  {
   "cell_type": "markdown",
   "id": "05a1f7a6-239b-4cbc-9df2-b6850e81d7c3",
   "metadata": {
    "papermill": {},
    "tags": []
   },
   "source": [
    "### Import libraries"
   ]
  },
  {
   "cell_type": "code",
   "execution_count": null,
   "id": "bf1090e3-6761-4dc3-ac9c-6e9fe6bcd2c7",
   "metadata": {
    "papermill": {},
    "tags": []
   },
   "source": "import requests\nimport json",
   "outputs": []
  },
  {
   "cell_type": "markdown",
   "id": "178e40ea-0aac-4709-a4e4-6fb0928a9783",
   "metadata": {
    "papermill": {},
    "tags": []
   },
   "source": [
    "### Setup variables\n- **API_KEY**: API key provided by OpenAlex. [Get your API key](https://docs.openalex.org/authentication)\n- **SEARCH_CRITERIA**: Search criteria to filter the list of institutions."
   ]
  },
  {
   "cell_type": "code",
   "execution_count": null,
   "id": "37c9ed2e-c7c8-4cee-bd37-38fd8579045a",
   "metadata": {
    "papermill": {},
    "tags": []
   },
   "source": "API_KEY = \"<YOUR_API_KEY>\"\nSEARCH_CRITERIA = \"<YOUR_SEARCH_CRITERIA>\"",
   "outputs": []
  },
  {
   "cell_type": "markdown",
   "id": "c4a83685-deb1-47a5-a1d5-711e10d45951",
   "metadata": {
    "papermill": {},
    "tags": []
   },
   "source": [
    "## Model"
   ]
  },
  {
   "cell_type": "markdown",
   "id": "ba30d4cb-6f50-4c25-a9ec-13cc85b799ff",
   "metadata": {
    "papermill": {},
    "tags": []
   },
   "source": [
    "### Search institutions"
   ]
  },
  {
   "cell_type": "markdown",
   "id": "2559d133-2ed3-43e2-bf31-f650a47ca6f8",
   "metadata": {
    "papermill": {},
    "tags": []
   },
   "source": [
    "This function will search institutions using OpenAlex API. It will provide a list of institutions based on the search criteria."
   ]
  },
  {
   "cell_type": "code",
   "execution_count": null,
   "id": "364e686e-a6fc-4dba-be1c-1392793b7129",
   "metadata": {
    "papermill": {},
    "tags": []
   },
   "source": "def search_institutions(api_key, search_criteria):\n    # Set the request parameters\n    url = \"https://api.openalex.org/v1/institutions/search\"\n    headers = {\"Content-Type\": \"application/json\", \"Authorization\": \"Bearer \" + api_key}\n    payload = {\"search\": search_criteria}\n    # Do the HTTP request\n    response = requests.get(url, headers=headers, params=payload)\n    # Check for HTTP codes other than 200\n    if response.status_code != 200:\n        print(\"Status:\", response.status_code, \"Problem with the request. Exiting.\")\n        exit()\n    # Decode the JSON response into a dictionary and use the data\n    data = response.json()\n    return data",
   "outputs": []
  },
  {
   "cell_type": "markdown",
   "id": "9a016944-89a5-4901-98db-307cb432f13d",
   "metadata": {
    "papermill": {},
    "tags": []
   },
   "source": [
    "## Output"
   ]
  },
  {
   "cell_type": "markdown",
   "id": "d37dca28-48fa-4554-8500-3595b0850622",
   "metadata": {
    "papermill": {},
    "tags": []
   },
   "source": [
    "### Display result"
   ]
  },
  {
   "cell_type": "code",
   "execution_count": null,
   "id": "fbc90680-5326-40b7-933d-f542e1a58cb5",
   "metadata": {
    "papermill": {},
    "tags": []
   },
   "source": "result = search_institutions(API_KEY, SEARCH_CRITERIA)\nprint(json.dumps(result, indent=4))",
   "outputs": []
  },
  {
   "cell_type": "markdown",
   "id": "5b2ebe14-3810-4330-a74a-53ab9be34346",
   "metadata": {
    "papermill": {},
    "tags": []
   },
   "source": [
    " "
   ]
  }
 ],
 "metadata": {
  "kernelspec": {
   "display_name": "Python 3",
   "language": "python",
   "name": "python3"
  },
  "language_info": {
   "codemirror_mode": {
    "name": "ipython",
    "version": 3
   },
   "file_extension": ".py",
   "mimetype": "text/x-python",
   "name": "python",
   "nbconvert_exporter": "python",
   "pygments_lexer": "ipython3",
   "version": "3.9.6"
  },
  "widgets": {
   "application/vnd.jupyter.widget-state+json": {
    "state": {},
    "version_major": 2,
    "version_minor": 0
   }
  }
 },
 "nbformat": 4,
 "nbformat_minor": 5
}