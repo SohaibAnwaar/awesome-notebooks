{
 "cells": [
  {
   "cell_type": "markdown",
   "id": "55600189-5e8c-41e7-a8ad-1f285a584688",
   "metadata": {
    "papermill": {},
    "tags": []
   },
   "source": [
    "<img width=\"8%\" alt=\"Naas.png\" src=\"https://raw.githubusercontent.com/jupyter-naas/awesome-notebooks/master/.github/assets/logos/Naas.png\" style=\"border-radius: 15%\">"
   ]
  },
  {
   "cell_type": "markdown",
   "id": "5e4255b1-362c-4656-9189-03cd56990591",
   "metadata": {
    "papermill": {},
    "tags": []
   },
   "source": [
    "# OpenAlex - Search publishers"
   ]
  },
  {
   "cell_type": "markdown",
   "id": "bf74a3e4-1a42-49c3-8d76-15e33881dc9a",
   "metadata": {
    "papermill": {},
    "tags": []
   },
   "source": [
    "**Tags:** #openalex #publishers #search #api #entities #reference"
   ]
  },
  {
   "cell_type": "markdown",
   "id": "7e57fafa-f3b9-4191-ae0f-f889d63daa06",
   "metadata": {
    "papermill": {},
    "tags": []
   },
   "source": [
    "**Author:** [Firstname Lastname](https://www.linkedin.com/in/xxxx)"
   ]
  },
  {
   "cell_type": "markdown",
   "id": "f9b2b8e9-b388-4af2-a619-0d11f5444eeb",
   "metadata": {
    "papermill": {},
    "tags": []
   },
   "source": [
    "**Last update:** 2023-12-08 (Created: 2023-12-08)"
   ]
  },
  {
   "cell_type": "markdown",
   "id": "43c485aa-ac4a-43ab-8277-05dbfaf7cb32",
   "metadata": {
    "papermill": {},
    "tags": []
   },
   "source": [
    "**Description:** This notebook will search publishers using OpenAlex API. It will provide a list of publishers that match the search criteria."
   ]
  },
  {
   "cell_type": "markdown",
   "id": "4be204c8-c3d1-4f5d-bef6-d52c575fce57",
   "metadata": {
    "papermill": {},
    "tags": []
   },
   "source": [
    "**References:**\n- [OpenAlex API - Entities - Search Publishers](https://docs.openalex.org/api-entities/publishers/search-publishers)\n- [OpenAlex API - Entities - Publisher](https://docs.openalex.org/api-entities/publishers/publisher)"
   ]
  },
  {
   "cell_type": "markdown",
   "id": "3358db19-7b8e-4fb8-a463-9f5bd26e9ae5",
   "metadata": {
    "papermill": {},
    "tags": []
   },
   "source": [
    "## Input"
   ]
  },
  {
   "cell_type": "markdown",
   "id": "2a39098a-4d74-4892-aea8-ce8adabafbc6",
   "metadata": {
    "papermill": {},
    "tags": []
   },
   "source": [
    "### Import libraries"
   ]
  },
  {
   "cell_type": "code",
   "execution_count": null,
   "id": "1a6797bb-e607-49f9-9c16-654b68d04bfb",
   "metadata": {
    "papermill": {},
    "tags": []
   },
   "source": "import requests\nimport json",
   "outputs": []
  },
  {
   "cell_type": "markdown",
   "id": "29775f17-efff-4d88-83cd-5ffc59690338",
   "metadata": {
    "papermill": {},
    "tags": []
   },
   "source": [
    "### Setup variables\n- **api_key**: API key provided by OpenAlex\n- **search_term**: term to search for publishers"
   ]
  },
  {
   "cell_type": "code",
   "execution_count": null,
   "id": "bf86373f-1e0f-4928-b2d5-5e8c3fd6b0e1",
   "metadata": {
    "papermill": {},
    "tags": []
   },
   "source": "api_key = \"<api_key>\"\nsearch_term = \"<search_term>\"",
   "outputs": []
  },
  {
   "cell_type": "markdown",
   "id": "4a4a86cc-76c2-4856-994f-37ef04a4f0d5",
   "metadata": {
    "papermill": {},
    "tags": []
   },
   "source": [
    "## Model"
   ]
  },
  {
   "cell_type": "markdown",
   "id": "88a4bea4-706a-40c3-a29d-0cb5a8027cb8",
   "metadata": {
    "papermill": {},
    "tags": []
   },
   "source": [
    "### Search publishers"
   ]
  },
  {
   "cell_type": "markdown",
   "id": "1568e204-fcd4-4bec-a515-e3e65dd2a62f",
   "metadata": {
    "papermill": {},
    "tags": []
   },
   "source": [
    "This function will search for publishers using OpenAlex API. It will return a list of publishers that match the search criteria."
   ]
  },
  {
   "cell_type": "code",
   "execution_count": null,
   "id": "4485fce7-893b-4538-956e-b2248269691c",
   "metadata": {
    "papermill": {},
    "tags": []
   },
   "source": "def search_publishers(api_key, search_term):\n    # Set the request parameters\n    url = \"https://api.openalex.org/v1/publishers/search\"\n    headers = {\"Content-Type\": \"application/json\", \"Authorization\": \"Bearer \" + api_key}\n    payload = {\"search\": search_term}\n    # Do the HTTP get request\n    response = requests.get(url, headers=headers, params=payload)\n    # Check for HTTP codes other than 200\n    if response.status_code != 200:\n        print(\"Status:\", response.status_code, \"Problem with the request. Exiting.\")\n        exit()\n    # Decode the JSON response into a dictionary and use the data\n    data = response.json()\n    return data",
   "outputs": []
  },
  {
   "cell_type": "markdown",
   "id": "354f5bef-09b6-4dae-a5bb-7b60538ae8ee",
   "metadata": {
    "papermill": {},
    "tags": []
   },
   "source": [
    "## Output"
   ]
  },
  {
   "cell_type": "markdown",
   "id": "984110a3-85c5-435e-be12-5ac52a8cd67b",
   "metadata": {
    "papermill": {},
    "tags": []
   },
   "source": [
    "### Display result"
   ]
  },
  {
   "cell_type": "code",
   "execution_count": null,
   "id": "e7eca019-b355-4e6b-87df-b39c73be3155",
   "metadata": {
    "papermill": {},
    "tags": []
   },
   "source": "publishers = search_publishers(api_key, search_term)\nprint(\"List of publishers:\")\nfor publisher in publishers:\n    print(publisher[\"name\"])",
   "outputs": []
  }
 ],
 "metadata": {
  "kernelspec": {
   "display_name": "Python 3",
   "language": "python",
   "name": "python3"
  },
  "language_info": {
   "codemirror_mode": {
    "name": "ipython",
    "version": 3
   },
   "file_extension": ".py",
   "mimetype": "text/x-python",
   "name": "python",
   "nbconvert_exporter": "python",
   "pygments_lexer": "ipython3",
   "version": "3.9.6"
  },
  "widgets": {
   "application/vnd.jupyter.widget-state+json": {
    "state": {},
    "version_major": 2,
    "version_minor": 0
   }
  }
 },
 "nbformat": 4,
 "nbformat_minor": 5
}