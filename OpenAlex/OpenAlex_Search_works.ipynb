{
 "cells": [
  {
   "cell_type": "markdown",
   "id": "0ff6e959-8b29-48f8-bf8d-35d51e4f09ff",
   "metadata": {
    "papermill": {},
    "tags": []
   },
   "source": [
    "<img width=\"8%\" alt=\"Naas.png\" src=\"https://raw.githubusercontent.com/jupyter-naas/awesome-notebooks/master/.github/assets/logos/Naas.png\" style=\"border-radius: 15%\">"
   ]
  },
  {
   "cell_type": "markdown",
   "id": "41807abe-9fe0-4f7c-a8ff-0ef50975f729",
   "metadata": {
    "papermill": {},
    "tags": []
   },
   "source": [
    "# OpenAlex - Search works"
   ]
  },
  {
   "cell_type": "markdown",
   "id": "bb40282b-176e-474a-8cf8-500c0c9d34bb",
   "metadata": {
    "papermill": {},
    "tags": []
   },
   "source": [
    "**Tags:** #openalex #api #works #search #entities #reference"
   ]
  },
  {
   "cell_type": "markdown",
   "id": "64799d9b-9b98-4691-a9dd-bbb615233da9",
   "metadata": {
    "papermill": {},
    "tags": []
   },
   "source": [
    "**Author:** [Firstname Lastname](https://www.linkedin.com/in/xxxx)"
   ]
  },
  {
   "cell_type": "markdown",
   "id": "cac62b2a-3a29-47b5-8cef-7ca417eb45de",
   "metadata": {
    "papermill": {},
    "tags": []
   },
   "source": [
    "**Last update:** 2023-12-08 (Created: 2023-12-08)"
   ]
  },
  {
   "cell_type": "markdown",
   "id": "97d69e28-1b69-42c4-9263-17eb11ba7b53",
   "metadata": {
    "papermill": {},
    "tags": []
   },
   "source": [
    "**Description:** This notebook will search works using OpenAlex API. It will allow to find works from OpenAlex database."
   ]
  },
  {
   "cell_type": "markdown",
   "id": "0dcb65ff-bd0e-4f08-8c53-6a0acd7ea46d",
   "metadata": {
    "papermill": {},
    "tags": []
   },
   "source": [
    "**References:**\n- [OpenAlex API - Entities - Search works](https://docs.openalex.org/api-entities/works/search-works)\n- [OpenAlex API - Entities - Get work](https://docs.openalex.org/api-entities/works/get-work)"
   ]
  },
  {
   "cell_type": "markdown",
   "id": "70100d88-d30a-4ce6-a392-a8644b3f4c6f",
   "metadata": {
    "papermill": {},
    "tags": []
   },
   "source": [
    "## Input"
   ]
  },
  {
   "cell_type": "markdown",
   "id": "8cbc6ee9-563a-4b95-83c5-95f2244592ea",
   "metadata": {
    "papermill": {},
    "tags": []
   },
   "source": [
    "### Import libraries"
   ]
  },
  {
   "cell_type": "code",
   "execution_count": null,
   "id": "40f9e01c-84b0-4f91-b34e-f111750e0df2",
   "metadata": {
    "papermill": {},
    "tags": []
   },
   "source": "import requests\nimport json",
   "outputs": []
  },
  {
   "cell_type": "markdown",
   "id": "20b23076-c07c-454b-8882-b44bf44f407b",
   "metadata": {
    "papermill": {},
    "tags": []
   },
   "source": [
    "### Setup variables\n- **api_key**: API key provided by OpenAlex\n- **query**: query to search works"
   ]
  },
  {
   "cell_type": "code",
   "execution_count": null,
   "id": "2373b120-691f-4f05-9555-257a69a682b6",
   "metadata": {
    "papermill": {},
    "tags": []
   },
   "source": "api_key = \"XXXXXXXXXXXXXXXXXXXXXXXXXXXXXXXXXXXXXXXX\"\nquery = \"work_name\"",
   "outputs": []
  },
  {
   "cell_type": "markdown",
   "id": "edbab4cf-e6b2-4cc0-934b-35df9710558b",
   "metadata": {
    "papermill": {},
    "tags": []
   },
   "source": [
    "## Model"
   ]
  },
  {
   "cell_type": "markdown",
   "id": "276c1662-a298-407d-a7e8-0a3a6dd547b4",
   "metadata": {
    "papermill": {},
    "tags": []
   },
   "source": [
    "### Search works"
   ]
  },
  {
   "cell_type": "markdown",
   "id": "d643d5e2-264f-482c-b71d-bdb9df08c04c",
   "metadata": {
    "papermill": {},
    "tags": []
   },
   "source": [
    "This function will search works using OpenAlex API. It will return a list of works matching the query."
   ]
  },
  {
   "cell_type": "code",
   "execution_count": null,
   "id": "a9d04fb8-d4f8-48bf-bf56-648070841a11",
   "metadata": {
    "papermill": {},
    "tags": []
   },
   "source": "def search_works(api_key, query):\n    url = \"https://api.openalex.org/v1/works/search\"\n    headers = {\"Authorization\": \"Bearer \" + api_key}\n    params = {\"query\": query}\n    response = requests.get(url, headers=headers, params=params)\n    if response.status_code == 200:\n        return json.loads(response.content.decode(\"utf-8\"))\n    else:\n        return None",
   "outputs": []
  },
  {
   "cell_type": "markdown",
   "id": "2f7bf116-5c4d-4836-adfb-1a025c41da3d",
   "metadata": {
    "papermill": {},
    "tags": []
   },
   "source": [
    "## Output"
   ]
  },
  {
   "cell_type": "markdown",
   "id": "a8aaa02c-0617-4067-b964-456300fd9352",
   "metadata": {
    "papermill": {},
    "tags": []
   },
   "source": [
    "### Display result"
   ]
  },
  {
   "cell_type": "code",
   "execution_count": null,
   "id": "e91fc02c-95a4-47db-897d-3b670c1ff8ce",
   "metadata": {
    "papermill": {},
    "tags": []
   },
   "source": "works = search_works(api_key, query)\nif works is not None:\n    print(works)",
   "outputs": []
  }
 ],
 "metadata": {
  "kernelspec": {
   "display_name": "Python 3",
   "language": "python",
   "name": "python3"
  },
  "language_info": {
   "codemirror_mode": {
    "name": "ipython",
    "version": 3
   },
   "file_extension": ".py",
   "mimetype": "text/x-python",
   "name": "python",
   "nbconvert_exporter": "python",
   "pygments_lexer": "ipython3",
   "version": "3.9.6"
  },
  "widgets": {
   "application/vnd.jupyter.widget-state+json": {
    "state": {},
    "version_major": 2,
    "version_minor": 0
   }
  }
 },
 "nbformat": 4,
 "nbformat_minor": 5
}