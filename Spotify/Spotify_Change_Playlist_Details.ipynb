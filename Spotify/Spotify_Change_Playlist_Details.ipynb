{
 "cells": [
  {
   "cell_type": "markdown",
   "id": "b3fb2f6b-2bd4-45bb-b200-14333bff14b0",
   "metadata": {
    "papermill": {},
    "tags": []
   },
   "source": [
    "<img width=\"8%\" alt=\"Naas.png\" src=\"https://raw.githubusercontent.com/jupyter-naas/awesome-notebooks/master/.github/assets/logos/Naas.png\" style=\"border-radius: 15%\">"
   ]
  },
  {
   "cell_type": "markdown",
   "id": "2dc0aa38-0f2b-42b2-83f1-4a22357a6ba4",
   "metadata": {
    "papermill": {},
    "tags": []
   },
   "source": [
    "# Spotify - Change Playlist Details"
   ]
  },
  {
   "cell_type": "markdown",
   "id": "053771bf-28d8-4b4a-8ef9-dd93d9226ffb",
   "metadata": {
    "papermill": {},
    "tags": []
   },
   "source": [
    "**Tags:** #spotify #playlist #details #change #public #private"
   ]
  },
  {
   "cell_type": "markdown",
   "id": "848129b2-6ee9-448d-a44f-7ae39fb418d7",
   "metadata": {
    "papermill": {},
    "tags": []
   },
   "source": [
    "**Author:** [Alton Liew](https://www.linkedin.com/in/alton-liew-749944182/)"
   ]
  },
  {
   "cell_type": "markdown",
   "id": "84bcad9a-0a2f-496f-a07a-6d05cfa308a0",
   "metadata": {
    "papermill": {},
    "tags": []
   },
   "source": [
    "**Last update:** 2023-12-15 (Created: 2023-12-15)"
   ]
  },
  {
   "cell_type": "markdown",
   "id": "df85f9b7-349b-4d6e-b43d-283e55219adc",
   "metadata": {
    "papermill": {},
    "tags": []
   },
   "source": [
    "**Description:** This notebook will show how to change a playlist's name and public/private state. (The user must, of course, own the playlist.)"
   ]
  },
  {
   "cell_type": "markdown",
   "id": "a3e78bcc-d1c1-4389-a0e0-04c8716e49d1",
   "metadata": {
    "papermill": {},
    "tags": []
   },
   "source": [
    "**References:**\n- [Spotify - Change Playlist Details](https://developer.spotify.com/documentation/web-api/reference/change-playlist-details)\n- [Spotify - Authorization Guide](https://developer.spotify.com/documentation/general/guides/authorization-guide/)"
   ]
  },
  {
   "cell_type": "markdown",
   "id": "1303eaf2-c8ea-4f22-bfcd-5c5ca3c32176",
   "metadata": {
    "papermill": {},
    "tags": []
   },
   "source": [
    "## Input"
   ]
  },
  {
   "cell_type": "markdown",
   "id": "09817da0-ade3-405e-94d1-010117c80b8e",
   "metadata": {
    "papermill": {},
    "tags": []
   },
   "source": [
    "### Import libraries"
   ]
  },
  {
   "cell_type": "code",
   "execution_count": null,
   "id": "a55da932-d813-4424-a1ee-caa709d52be0",
   "metadata": {
    "papermill": {},
    "tags": []
   },
   "source": "import requests\nimport json",
   "outputs": []
  },
  {
   "cell_type": "markdown",
   "id": "4959816b-afe9-450b-afa6-e2740af1d07d",
   "metadata": {
    "papermill": {},
    "tags": []
   },
   "source": [
    "### Setup variables\n- **playlist_id**: The Spotify ID for the playlist.\n- **user_id**: The user's Spotify user ID.\n- **name**: The new name for the playlist.\n- **public**: The new public/private state of the playlist.\n- **access_token**: The access token retrieved from the [Spotify - Authorization Guide](https://developer.spotify.com/documentation/general/guides/authorization-guide/)."
   ]
  },
  {
   "cell_type": "code",
   "execution_count": null,
   "id": "d56236a6-43ef-455e-8389-a9ba12b89905",
   "metadata": {
    "papermill": {},
    "tags": []
   },
   "source": "playlist_id = \"3EsfV6XzCHU8SPNdbnFogK\"\nuser_id = \"altonliew\"\nname = \"My Playlist\"\npublic = True\naccess_token = \"BQD_...\"",
   "outputs": []
  },
  {
   "cell_type": "markdown",
   "id": "fa9adf63-6b25-4419-8233-08e73aaefaab",
   "metadata": {
    "papermill": {},
    "tags": []
   },
   "source": [
    "## Model"
   ]
  },
  {
   "cell_type": "markdown",
   "id": "09797b1a-f765-4d0f-ad56-52aadf2c3488",
   "metadata": {
    "papermill": {},
    "tags": []
   },
   "source": [
    "### Change Playlist Details"
   ]
  },
  {
   "cell_type": "markdown",
   "id": "071d6849-6d4c-47a1-aea4-88b76d9f4e13",
   "metadata": {
    "papermill": {},
    "tags": []
   },
   "source": [
    "This function will change the name and public/private state of a playlist."
   ]
  },
  {
   "cell_type": "code",
   "execution_count": null,
   "id": "abfb3401-2c0a-4b2c-aa80-c4fab218eeee",
   "metadata": {
    "papermill": {},
    "tags": []
   },
   "source": "def change_playlist_details(playlist_id, user_id, name, public, access_token):\n    endpoint = f\"https://api.spotify.com/v1/users/{user_id}/playlists/{playlist_id}\"\n    headers = {\n        \"Authorization\": f\"Bearer {access_token}\",\n        \"Content-Type\": \"application/json\",\n    }\n    data = {\"name\": name, \"public\": public}\n    response = requests.put(endpoint, headers=headers, data=json.dumps(data))\n    return response.json()",
   "outputs": []
  },
  {
   "cell_type": "markdown",
   "id": "3249dbc2-c867-4dd6-a745-c453a155f532",
   "metadata": {
    "papermill": {},
    "tags": []
   },
   "source": [
    "## Output"
   ]
  },
  {
   "cell_type": "markdown",
   "id": "54e3670b-d794-4ef8-b6ce-113b98f8ce0c",
   "metadata": {
    "papermill": {},
    "tags": []
   },
   "source": [
    "### Display result"
   ]
  },
  {
   "cell_type": "code",
   "execution_count": null,
   "id": "beb76534-94f2-48d7-a504-3a9817368fc1",
   "metadata": {
    "papermill": {},
    "tags": []
   },
   "source": "result = change_playlist_details(playlist_id, user_id, name, public, access_token)\nprint(result)",
   "outputs": []
  },
  {
   "cell_type": "markdown",
   "id": "6a2c9804-58d9-49ca-bf2d-762622dd7939",
   "metadata": {
    "papermill": {},
    "tags": []
   },
   "source": [
    " "
   ]
  }
 ],
 "metadata": {
  "kernelspec": {
   "display_name": "Python 3",
   "language": "python",
   "name": "python3"
  },
  "language_info": {
   "codemirror_mode": {
    "name": "ipython",
    "version": 3
   },
   "file_extension": ".py",
   "mimetype": "text/x-python",
   "name": "python",
   "nbconvert_exporter": "python",
   "pygments_lexer": "ipython3",
   "version": "3.9.6"
  },
  "widgets": {
   "application/vnd.jupyter.widget-state+json": {
    "state": {},
    "version_major": 2,
    "version_minor": 0
   }
  }
 },
 "nbformat": 4,
 "nbformat_minor": 5
}