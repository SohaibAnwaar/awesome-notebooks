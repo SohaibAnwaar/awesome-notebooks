{
 "cells": [
  {
   "cell_type": "markdown",
   "id": "a0599e49-a863-47a9-bb85-5b452dc8e139",
   "metadata": {
    "papermill": {},
    "tags": []
   },
   "source": [
    "<img width=\"10%\" alt=\"Naas\" src=\"https://landen.imgix.net/jtci2pxwjczr/assets/5ice39g4.png?w=160\"/>"
   ]
  },
  {
   "cell_type": "markdown",
   "id": "8af6df25-7b31-4c32-826d-031c690b1c39",
   "metadata": {
    "papermill": {},
    "tags": []
   },
   "source": [
    "# WhatsApp - Post message"
   ]
  },
  {
   "cell_type": "markdown",
   "id": "3f9e24e9-fc89-4421-b066-e5db64571a17",
   "metadata": {
    "papermill": {},
    "tags": []
   },
   "source": [
    "**Tags:** #whatsapp #post #message #python #facebook #developers"
   ]
  },
  {
   "cell_type": "markdown",
   "id": "7df7826a-beef-4a9b-85aa-a7fba9417f81",
   "metadata": {
    "papermill": {},
    "tags": []
   },
   "source": [
    "**Author:** [Firstname Lastname]()"
   ]
  },
  {
   "cell_type": "markdown",
   "id": "bead71c1-52ce-4a89-af32-7a8662466e9b",
   "metadata": {
    "papermill": {},
    "tags": []
   },
   "source": [
    "**Last update:** 2023-10-09 (Created: 2023-10-09)"
   ]
  },
  {
   "cell_type": "markdown",
   "id": "faa572fe-5d2e-4fbc-9d6b-d3c5a4686516",
   "metadata": {
    "papermill": {},
    "tags": []
   },
   "source": [
    "**Description:** This notebook posts a message using python. It is usefull for organizations to quickly post messages on WhatsApp."
   ]
  },
  {
   "cell_type": "markdown",
   "id": "8b9f65b1-f6db-4bf7-a93d-c211bc0f5ec0",
   "metadata": {
    "papermill": {},
    "tags": []
   },
   "source": [
    "**References:**\n- [WhatsApp - Post message](https://developers.facebook.com/docs/whatsapp/on-premises/reference/messages/#request)"
   ]
  },
  {
   "cell_type": "markdown",
   "id": "03f77506-b1fe-4b7a-9b58-5a3acc6746c6",
   "metadata": {
    "papermill": {},
    "tags": []
   },
   "source": [
    "## Input"
   ]
  },
  {
   "cell_type": "markdown",
   "id": "c45629e1-9481-4ea0-99e5-a4e51fa0678f",
   "metadata": {
    "papermill": {},
    "tags": []
   },
   "source": [
    "### Import libraries"
   ]
  },
  {
   "cell_type": "code",
   "execution_count": null,
   "id": "3ff26452-44cb-4e47-a2e8-0bef1992b7f8",
   "metadata": {
    "papermill": {},
    "tags": []
   },
   "source": "import requests",
   "outputs": []
  },
  {
   "cell_type": "markdown",
   "id": "7f0a30c4-3fb2-47c3-a991-16ab597450a2",
   "metadata": {
    "papermill": {},
    "tags": []
   },
   "source": [
    "### Setup variables\n- **token**: [Link to procedure to get token](https://developers.facebook.com/docs/whatsapp/on-premises/reference/messages/#request)\n- **message**: Text of the message to be posted"
   ]
  },
  {
   "cell_type": "code",
   "execution_count": null,
   "id": "71c10510-1673-4127-a780-3a56d3f25d33",
   "metadata": {
    "papermill": {},
    "tags": []
   },
   "source": "token = \"<token>\"\nmessage = \"Hello World!\"",
   "outputs": []
  },
  {
   "cell_type": "markdown",
   "id": "787ddc39-7de1-4a1a-aade-ef1f4d844533",
   "metadata": {
    "papermill": {},
    "tags": []
   },
   "source": [
    "## Model"
   ]
  },
  {
   "cell_type": "markdown",
   "id": "6baf0b14-504b-49de-9124-7d78bcb6107f",
   "metadata": {
    "papermill": {},
    "tags": []
   },
   "source": [
    "### Post message"
   ]
  },
  {
   "cell_type": "markdown",
   "id": "3bf914d8-1334-4d19-aa03-5c112b5c7380",
   "metadata": {
    "papermill": {},
    "tags": []
   },
   "source": [
    "This function posts a message on WhatsApp using the token and the message provided."
   ]
  },
  {
   "cell_type": "code",
   "execution_count": null,
   "id": "c8c4c611-2891-4857-9d10-7b0d5916625d",
   "metadata": {
    "papermill": {},
    "tags": []
   },
   "source": "def post_message(token, message):\n    url = \"https://graph.facebook.com/v7.0/me/messages?access_token=\" + token\n    data = {\"message\": {\"text\": message}}\n    response = requests.post(url, json=data)\n    return response",
   "outputs": []
  },
  {
   "cell_type": "markdown",
   "id": "b8c8be39-ba5b-4b77-8833-0310bb439645",
   "metadata": {
    "papermill": {},
    "tags": []
   },
   "source": [
    "## Output"
   ]
  },
  {
   "cell_type": "markdown",
   "id": "4126b460-6ed1-4dd2-bd15-326a72530e59",
   "metadata": {
    "papermill": {},
    "tags": []
   },
   "source": [
    "### Display result"
   ]
  },
  {
   "cell_type": "code",
   "execution_count": null,
   "id": "62b3f3e0-daed-4b54-88ef-5db43b3175c4",
   "metadata": {
    "papermill": {},
    "tags": []
   },
   "source": "response = post_message(token, message)\nprint(response.status_code)\nprint(response.json())",
   "outputs": []
  }
 ],
 "metadata": {
  "kernelspec": {
   "display_name": "Python 3",
   "language": "python",
   "name": "python3"
  },
  "language_info": {
   "codemirror_mode": {
    "name": "ipython",
    "version": 3
   },
   "file_extension": ".py",
   "mimetype": "text/x-python",
   "name": "python",
   "nbconvert_exporter": "python",
   "pygments_lexer": "ipython3",
   "version": "3.9.6"
  },
  "widgets": {
   "application/vnd.jupyter.widget-state+json": {
    "state": {},
    "version_major": 2,
    "version_minor": 0
   }
  }
 },
 "nbformat": 4,
 "nbformat_minor": 5
}